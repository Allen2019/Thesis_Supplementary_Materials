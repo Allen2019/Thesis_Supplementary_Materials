{
 "cells": [
  {
   "cell_type": "markdown",
   "metadata": {},
   "source": [
    "# Get the RDKit Features"
   ]
  },
  {
   "cell_type": "code",
   "execution_count": null,
   "metadata": {},
   "outputs": [],
   "source": [
    "import pandas as pd\n",
    "\n",
    "# RDkit Modules\n",
    "import rdkit\n",
    "from rdkit import Chem\n",
    "from rdkit.Chem import Descriptors\n",
    "from rdkit.ML.Descriptors import MoleculeDescriptors"
   ]
  },
  {
   "cell_type": "code",
   "execution_count": null,
   "metadata": {},
   "outputs": [],
   "source": [
    "# Load in training data (the descriptors and labels of the training compounds) and discovery library's compound metadata (names, SMILES, etc.)\n",
    "\n",
    "training_data = pd.read_csv('Data/Training_Data.csv',index_col=0)\n",
    "discovery_metadata = pd.read_csv('Data/Discovery_Metadata.csv')"
   ]
  },
  {
   "cell_type": "markdown",
   "metadata": {},
   "source": [
    "## Get RDKit molecule from SMILES"
   ]
  },
  {
   "cell_type": "code",
   "execution_count": null,
   "metadata": {},
   "outputs": [
    {
     "name": "stderr",
     "output_type": "stream",
     "text": [
      "[16:15:45] Can't kekulize mol.  Unkekulized atoms: 5 6 8 9 10 11 12 14 15\n",
      "[16:15:45] WARNING: not removing hydrogen atom without neighbors\n",
      "[16:15:45] WARNING: not removing hydrogen atom without neighbors\n",
      "[16:15:45] Can't kekulize mol.  Unkekulized atoms: 1 2 3 5 6\n",
      "[16:15:45] WARNING: not removing hydrogen atom without neighbors\n",
      "[16:15:45] SMILES Parse Error: syntax error while parsing: OC(CC(S)C(O)=O)=O.[x].[Na].[Au]\n",
      "[16:15:45] SMILES Parse Error: Failed parsing SMILES 'OC(CC(S)C(O)=O)=O.[x].[Na].[Au]' for input: 'OC(CC(S)C(O)=O)=O.[x].[Na].[Au]'\n",
      "[16:15:45] Explicit valence for atom # 3 C, 5, is greater than permitted\n",
      "[16:15:45] Explicit valence for atom # 3 C, 5, is greater than permitted\n",
      "[16:15:45] WARNING: not removing hydrogen atom without neighbors\n",
      "[16:15:45] Explicit valence for atom # 59 Cl, 2, is greater than permitted\n",
      "[16:15:45] WARNING: not removing hydrogen atom without neighbors\n",
      "[16:15:45] Explicit valence for atom # 6 Cl, 2, is greater than permitted\n",
      "[16:15:45] WARNING: not removing hydrogen atom without neighbors\n",
      "[16:15:45] WARNING: not removing hydrogen atom without neighbors\n",
      "[16:15:45] WARNING: not removing hydrogen atom without neighbors\n"
     ]
    }
   ],
   "source": [
    "discovery_metadata['RDKit_Molecule'] = [Chem.MolFromSmiles(smile) for smile in discovery_metadata['SMILES']]"
   ]
  },
  {
   "cell_type": "code",
   "execution_count": null,
   "metadata": {},
   "outputs": [
    {
     "data": {
      "text/html": [
       "<div>\n",
       "<style scoped>\n",
       "    .dataframe tbody tr th:only-of-type {\n",
       "        vertical-align: middle;\n",
       "    }\n",
       "\n",
       "    .dataframe tbody tr th {\n",
       "        vertical-align: top;\n",
       "    }\n",
       "\n",
       "    .dataframe thead th {\n",
       "        text-align: right;\n",
       "    }\n",
       "</style>\n",
       "<table border=\"1\" class=\"dataframe\">\n",
       "  <thead>\n",
       "    <tr style=\"text-align: right;\">\n",
       "      <th></th>\n",
       "      <th>Name</th>\n",
       "      <th>Synonym</th>\n",
       "      <th>CAS</th>\n",
       "      <th>SMILES</th>\n",
       "      <th>CID</th>\n",
       "      <th>RDKit_Molecule</th>\n",
       "    </tr>\n",
       "  </thead>\n",
       "  <tbody>\n",
       "    <tr>\n",
       "      <th>165</th>\n",
       "      <td>ETHYL 5-HYDROXY-2-METHYLINDOLE-3-CARBOXYLATE</td>\n",
       "      <td>NaN</td>\n",
       "      <td>7598-91-6</td>\n",
       "      <td>CCOC(=O)c1c(C)nc2ccc(O)cc12</td>\n",
       "      <td>NaN</td>\n",
       "      <td>None</td>\n",
       "    </tr>\n",
       "    <tr>\n",
       "      <th>559</th>\n",
       "      <td>Semaxinib</td>\n",
       "      <td>SU5416</td>\n",
       "      <td>204005-46-9</td>\n",
       "      <td>Cc3cc(C)nc3C=C1c2ccccc2NC1=O</td>\n",
       "      <td>NaN</td>\n",
       "      <td>None</td>\n",
       "    </tr>\n",
       "    <tr>\n",
       "      <th>2704</th>\n",
       "      <td>Aurothiomalate sodium</td>\n",
       "      <td>Sodium aurothiomalate; gold sodium thiomalate;...</td>\n",
       "      <td>12244-57-4</td>\n",
       "      <td>OC(CC(S)C(O)=O)=O.[x].[Na].[Au]</td>\n",
       "      <td>NaN</td>\n",
       "      <td>None</td>\n",
       "    </tr>\n",
       "    <tr>\n",
       "      <th>4030</th>\n",
       "      <td>(Z)-FeCP-oxindole</td>\n",
       "      <td>NaN</td>\n",
       "      <td>1137967-28-2</td>\n",
       "      <td>C(\\[C-]12[Fe+2]3456789([CH]1=[CH]3[CH]4=[CH]52...</td>\n",
       "      <td>NaN</td>\n",
       "      <td>None</td>\n",
       "    </tr>\n",
       "    <tr>\n",
       "      <th>4064</th>\n",
       "      <td>(E)-FeCP-oxindole</td>\n",
       "      <td>NaN</td>\n",
       "      <td>884338-18-5</td>\n",
       "      <td>C(\\[C-]12[Fe+2]3456789([CH]1=[CH]3[CH]4=[CH]52...</td>\n",
       "      <td>NaN</td>\n",
       "      <td>None</td>\n",
       "    </tr>\n",
       "    <tr>\n",
       "      <th>4205</th>\n",
       "      <td>MnTBAP chloride</td>\n",
       "      <td>Mn(III)TBAP</td>\n",
       "      <td>55266-18-7</td>\n",
       "      <td>[H+].O=C([O-])C=1C=CC(=CC1)C2=C3C=CC=4C(C=5C=C...</td>\n",
       "      <td>NaN</td>\n",
       "      <td>None</td>\n",
       "    </tr>\n",
       "    <tr>\n",
       "      <th>4448</th>\n",
       "      <td>NAMI-A</td>\n",
       "      <td>NaN</td>\n",
       "      <td>201653-76-1</td>\n",
       "      <td>[H+].O=[S](C)(C)[Ru+3]([Cl-])([Cl-])([Cl-])([C...</td>\n",
       "      <td>NaN</td>\n",
       "      <td>None</td>\n",
       "    </tr>\n",
       "  </tbody>\n",
       "</table>\n",
       "</div>"
      ],
      "text/plain": [
       "                                              Name  \\\n",
       "165   ETHYL 5-HYDROXY-2-METHYLINDOLE-3-CARBOXYLATE   \n",
       "559                                      Semaxinib   \n",
       "2704                         Aurothiomalate sodium   \n",
       "4030                             (Z)-FeCP-oxindole   \n",
       "4064                             (E)-FeCP-oxindole   \n",
       "4205                               MnTBAP chloride   \n",
       "4448                                        NAMI-A   \n",
       "\n",
       "                                                Synonym           CAS  \\\n",
       "165                                                 NaN     7598-91-6   \n",
       "559                                              SU5416   204005-46-9   \n",
       "2704  Sodium aurothiomalate; gold sodium thiomalate;...    12244-57-4   \n",
       "4030                                                NaN  1137967-28-2   \n",
       "4064                                                NaN   884338-18-5   \n",
       "4205                                        Mn(III)TBAP    55266-18-7   \n",
       "4448                                                NaN   201653-76-1   \n",
       "\n",
       "                                                 SMILES  CID RDKit_Molecule  \n",
       "165                         CCOC(=O)c1c(C)nc2ccc(O)cc12  NaN           None  \n",
       "559                        Cc3cc(C)nc3C=C1c2ccccc2NC1=O  NaN           None  \n",
       "2704                    OC(CC(S)C(O)=O)=O.[x].[Na].[Au]  NaN           None  \n",
       "4030  C(\\[C-]12[Fe+2]3456789([CH]1=[CH]3[CH]4=[CH]52...  NaN           None  \n",
       "4064  C(\\[C-]12[Fe+2]3456789([CH]1=[CH]3[CH]4=[CH]52...  NaN           None  \n",
       "4205  [H+].O=C([O-])C=1C=CC(=CC1)C2=C3C=CC=4C(C=5C=C...  NaN           None  \n",
       "4448  [H+].O=[S](C)(C)[Ru+3]([Cl-])([Cl-])([Cl-])([C...  NaN           None  "
      ]
     },
     "execution_count": 312,
     "metadata": {},
     "output_type": "execute_result"
    }
   ],
   "source": [
    "discovery_metadata[discovery_metadata['RDKit_Molecule'].isna()]"
   ]
  },
  {
   "cell_type": "code",
   "execution_count": 313,
   "metadata": {},
   "outputs": [
    {
     "data": {
      "image/png": "[encoded data removed]",
      "text/plain": [
       "<rdkit.Chem.rdchem.Mol at 0x2c2bb9930>"
      ]
     },
     "execution_count": 313,
     "metadata": {},
     "output_type": "execute_result"
    }
   ],
   "source": [
    "Chem.MolFromSmiles('CS(C)=O.Cl[Ru](Cl)(Cl)Cl.N1=CNC=C1.C2=[NH+]C=CN2')"
   ]
  },
  {
   "cell_type": "markdown",
   "metadata": {},
   "source": [
    "Correcting invalid SMILES"
   ]
  },
  {
   "cell_type": "code",
   "execution_count": null,
   "metadata": {},
   "outputs": [
    {
     "name": "stderr",
     "output_type": "stream",
     "text": [
      "[16:15:53] Can't kekulize mol.  Unkekulized atoms: 5 6 8 9 10 11 12 14 15\n"
     ]
    }
   ],
   "source": [
    "Chem.MolFromSmiles(discovery_metadata.at[165,'SMILES']) # Can't kekulize; replacing with SMILES from CAS\n",
    "discovery_metadata.at[165,'SMILES'] = 'C(OCC)(=O)C=1C=2C(NC1C)=CC=C(O)C2'\n",
    "\n",
    "discovery_metadata.at[559,'SMILES'] = 'C(=C1C=2C(NC1=O)=CC=CC2)C=3NC(C)=CC3C' # Can't kekulize; replacing with SMILES from CAS\n",
    "\n",
    "discovery_metadata.at[2704,'SMILES'] = 'C(CC(O)=O)(C(O)=O)S.[Au].[Na]' # SMILES Parse Error: syntax error while parsing: OC(CC(S)C(O)=O)=O.[x].[Na].[Au]\n",
    "                                                                   # SMILES Parse Error: Failed parsing SMILES 'OC(CC(S)C(O)=O)=O.[x].[Na].[Au]' for input: 'OC(CC(S)C(O)=O)=O.[x].[Na].[Au]'; \n",
    "                                                                   # replacing with SMILES from CAS\n",
    "\n",
    "discovery_metadata.at[4030,'SMILES'] = '[Fe++].[CH-]1C=CC=C1.O=C1NC2=CC=CC=C2\\C1=C\\C1=CC=C[CH-]1' # Explicit valence for atom # 3 C, 5, is greater than permitted\n",
    "                                                                                              # Got SMILES from https://www.tocris.com/products/z-fecp-oxindole_3883\n",
    "\n",
    "discovery_metadata.at[4064,'SMILES'] = '[Fe++].[CH-]1C=CC=C1.O=C1NC2=CC=CC=C2\\C1=C/C1=C[CH-]C=C1' # Explicit valence for atom # 3 C, 5, is greater than permitted\n",
    "                                                                                              # Got SMILES from https://www.tocris.com/products/e-fecp-oxindole_3882\n",
    "\n",
    "\n",
    "discovery_metadata.at[4205,'SMILES'] = ('O=C(C1=CC=C(C=C1)C2=C(C=C3)[N]4=C3C(C5=CC=C(C(O)=O)C=C5)=C6[N-]7[Mn+3]84'\n",
    "'[N-]9C2=CC=C9C(C(C=C%10)=CC=C%10C(O)=O)=C(C=C%11)[N]8=C%11C(C%12=CC=C(C(O)=O)C=C%12)=C7C=C6)O.[Cl-]')  # WARNING: not removing hydrogen atom without neighbors\n",
    "                                                                                                        # Explicit valence for atom # 59 Cl, 2, is greater than permitted\n",
    "\n",
    "discovery_metadata.at[4448,'SMILES'] = 'CS(C)=O.Cl[Ru](Cl)(Cl)Cl.N1=CNC=C1.C2=[NH+]C=CN2' # WARNING: not removing hydrogen atom without neighbors\n",
    "                                                                                      # Explicit valence for atom # 6 Cl, 2, is greater than permitted\n",
    "\n"
   ]
  },
  {
   "cell_type": "code",
   "execution_count": null,
   "metadata": {},
   "outputs": [
    {
     "data": {
      "image/png": "[encoded data removed]",
      "text/plain": [
       "<rdkit.Chem.rdchem.Mol at 0x169958900>"
      ]
     },
     "execution_count": 315,
     "metadata": {},
     "output_type": "execute_result"
    }
   ],
   "source": [
    "Chem.MolFromSmiles(discovery_metadata.at[4448,'SMILES'])"
   ]
  },
  {
   "cell_type": "markdown",
   "metadata": {},
   "source": [
    "Doing the SMILES to mol again"
   ]
  },
  {
   "cell_type": "code",
   "execution_count": null,
   "metadata": {},
   "outputs": [
    {
     "name": "stderr",
     "output_type": "stream",
     "text": [
      "[16:15:56] WARNING: not removing hydrogen atom without neighbors\n",
      "[16:15:56] WARNING: not removing hydrogen atom without neighbors\n",
      "[16:15:56] WARNING: not removing hydrogen atom without neighbors\n",
      "[16:15:57] WARNING: not removing hydrogen atom without neighbors\n",
      "[16:15:57] WARNING: not removing hydrogen atom without neighbors\n",
      "[16:15:57] WARNING: not removing hydrogen atom without neighbors\n"
     ]
    }
   ],
   "source": [
    "discovery_metadata['RDKit_Molecule'] = [Chem.MolFromSmiles(smile) for smile in discovery_metadata['SMILES']]"
   ]
  },
  {
   "cell_type": "code",
   "execution_count": null,
   "metadata": {},
   "outputs": [],
   "source": [
    "# save the data:\n",
    "import pickle\n",
    "\n",
    "# with open('combined_library_filtered (with RDkit_mol from SMILES).pickle','wb') as f:\n",
    "#     pickle.dump(discovery_metadata,f)"
   ]
  },
  {
   "cell_type": "markdown",
   "metadata": {},
   "source": [
    "## Calculating the descriptors"
   ]
  },
  {
   "cell_type": "code",
   "execution_count": null,
   "metadata": {},
   "outputs": [
    {
     "name": "stderr",
     "output_type": "stream",
     "text": [
      "[16:16:07] WARNING: not removing hydrogen atom without neighbors\n",
      "[16:16:07] WARNING: not removing hydrogen atom without neighbors\n",
      "[16:16:07] WARNING: not removing hydrogen atom without neighbors\n",
      "[16:16:07] WARNING: not removing hydrogen atom without neighbors\n",
      "[16:16:07] WARNING: not removing hydrogen atom without neighbors\n",
      "[16:16:07] WARNING: not removing hydrogen atom without neighbors\n",
      "[16:16:07] WARNING: not removing hydrogen atom without neighbors\n",
      "[16:16:07] WARNING: not removing hydrogen atom without neighbors\n",
      "[16:16:07] WARNING: not removing hydrogen atom without neighbors\n",
      "[16:16:07] WARNING: not removing hydrogen atom without neighbors\n",
      "[16:16:07] WARNING: not removing hydrogen atom without neighbors\n",
      "[16:16:07] WARNING: not removing hydrogen atom without neighbors\n",
      "[16:16:07] WARNING: not removing hydrogen atom without neighbors\n",
      "[16:16:07] WARNING: not removing hydrogen atom without neighbors\n",
      "[16:16:07] WARNING: not removing hydrogen atom without neighbors\n",
      "[16:16:07] WARNING: not removing hydrogen atom without neighbors\n",
      "[16:16:07] WARNING: not removing hydrogen atom without neighbors\n",
      "[16:16:07] WARNING: not removing hydrogen atom without neighbors\n",
      "[16:16:18] WARNING: not removing hydrogen atom without neighbors\n",
      "[16:16:18] WARNING: not removing hydrogen atom without neighbors\n",
      "[16:16:18] WARNING: not removing hydrogen atom without neighbors\n",
      "[16:16:18] WARNING: not removing hydrogen atom without neighbors\n",
      "[16:16:18] WARNING: not removing hydrogen atom without neighbors\n",
      "[16:16:18] WARNING: not removing hydrogen atom without neighbors\n",
      "[16:16:18] WARNING: not removing hydrogen atom without neighbors\n",
      "[16:16:18] WARNING: not removing hydrogen atom without neighbors\n",
      "[16:16:18] WARNING: not removing hydrogen atom without neighbors\n",
      "[16:17:23] WARNING: not removing hydrogen atom without neighbors\n",
      "[16:17:23] WARNING: not removing hydrogen atom without neighbors\n",
      "[16:17:23] WARNING: not removing hydrogen atom without neighbors\n",
      "[16:17:23] WARNING: not removing hydrogen atom without neighbors\n",
      "[16:17:23] WARNING: not removing hydrogen atom without neighbors\n",
      "[16:17:23] WARNING: not removing hydrogen atom without neighbors\n",
      "[16:17:23] WARNING: not removing hydrogen atom without neighbors\n",
      "[16:17:23] WARNING: not removing hydrogen atom without neighbors\n",
      "[16:17:23] WARNING: not removing hydrogen atom without neighbors\n",
      "[16:17:23] WARNING: not removing hydrogen atom without neighbors\n",
      "[16:17:23] WARNING: not removing hydrogen atom without neighbors\n",
      "[16:17:23] WARNING: not removing hydrogen atom without neighbors\n",
      "[16:17:23] WARNING: not removing hydrogen atom without neighbors\n",
      "[16:17:23] WARNING: not removing hydrogen atom without neighbors\n",
      "[16:17:23] WARNING: not removing hydrogen atom without neighbors\n",
      "[16:17:23] WARNING: not removing hydrogen atom without neighbors\n",
      "[16:17:23] WARNING: not removing hydrogen atom without neighbors\n",
      "[16:17:23] WARNING: not removing hydrogen atom without neighbors\n",
      "[16:17:23] WARNING: not removing hydrogen atom without neighbors\n",
      "[16:17:23] WARNING: not removing hydrogen atom without neighbors\n",
      "[16:17:23] WARNING: not removing hydrogen atom without neighbors\n",
      "[16:17:23] WARNING: not removing hydrogen atom without neighbors\n",
      "[16:17:23] WARNING: not removing hydrogen atom without neighbors\n",
      "[16:17:23] WARNING: not removing hydrogen atom without neighbors\n",
      "[16:17:23] WARNING: not removing hydrogen atom without neighbors\n",
      "[16:17:23] WARNING: not removing hydrogen atom without neighbors\n",
      "[16:17:23] WARNING: not removing hydrogen atom without neighbors\n"
     ]
    }
   ],
   "source": [
    "descriptors = [Descriptors.CalcMolDescriptors(mol) for mol in discovery_metadata['RDKit_Molecule']]"
   ]
  },
  {
   "cell_type": "code",
   "execution_count": null,
   "metadata": {},
   "outputs": [],
   "source": [
    "discovery_metadata_descriptors = pd.DataFrame(descriptors) \n",
    "discovery_metadata_descriptors.index = discovery_metadata['Name'].values"
   ]
  },
  {
   "cell_type": "markdown",
   "metadata": {},
   "source": [
    "# Train RF on one split of data"
   ]
  },
  {
   "cell_type": "code",
   "execution_count": null,
   "metadata": {},
   "outputs": [],
   "source": [
    "from sklearn.model_selection import train_test_split\n",
    "import pickle\n",
    "\n",
    "# Read in the data\n",
    "training_data = pd.read_csv('Data/Training_Data.csv',index_col=0)\n",
    "\n",
    "# Read in the selected features from RFE\n",
    "selected_features = pd.read_csv('Data/RFE_64_selected_features.csv').Features.values\n",
    "\n",
    "# Get X and y and train-test-split\n",
    "X = training_data.drop(columns=\"Hit\")\n",
    "X = X[selected_features] # Apply the selected features\n",
    "y = training_data[\"Hit\"].copy()\n",
    "X_train, X_test, y_train, y_test = train_test_split(X, y, test_size=0.25, stratify=y, random_state=42)"
   ]
  },
  {
   "cell_type": "code",
   "execution_count": 7,
   "metadata": {},
   "outputs": [
    {
     "data": {
      "text/html": [
       "<style>#sk-container-id-1 {\n",
       "  /* Definition of color scheme common for light and dark mode */\n",
       "  --sklearn-color-text: black;\n",
       "  --sklearn-color-line: gray;\n",
       "  /* Definition of color scheme for unfitted estimators */\n",
       "  --sklearn-color-unfitted-level-0: #fff5e6;\n",
       "  --sklearn-color-unfitted-level-1: #f6e4d2;\n",
       "  --sklearn-color-unfitted-level-2: #ffe0b3;\n",
       "  --sklearn-color-unfitted-level-3: chocolate;\n",
       "  /* Definition of color scheme for fitted estimators */\n",
       "  --sklearn-color-fitted-level-0: #f0f8ff;\n",
       "  --sklearn-color-fitted-level-1: #d4ebff;\n",
       "  --sklearn-color-fitted-level-2: #b3dbfd;\n",
       "  --sklearn-color-fitted-level-3: cornflowerblue;\n",
       "\n",
       "  /* Specific color for light theme */\n",
       "  --sklearn-color-text-on-default-background: var(--sg-text-color, var(--theme-code-foreground, var(--jp-content-font-color1, black)));\n",
       "  --sklearn-color-background: var(--sg-background-color, var(--theme-background, var(--jp-layout-color0, white)));\n",
       "  --sklearn-color-border-box: var(--sg-text-color, var(--theme-code-foreground, var(--jp-content-font-color1, black)));\n",
       "  --sklearn-color-icon: #696969;\n",
       "\n",
       "  @media (prefers-color-scheme: dark) {\n",
       "    /* Redefinition of color scheme for dark theme */\n",
       "    --sklearn-color-text-on-default-background: var(--sg-text-color, var(--theme-code-foreground, var(--jp-content-font-color1, white)));\n",
       "    --sklearn-color-background: var(--sg-background-color, var(--theme-background, var(--jp-layout-color0, #111)));\n",
       "    --sklearn-color-border-box: var(--sg-text-color, var(--theme-code-foreground, var(--jp-content-font-color1, white)));\n",
       "    --sklearn-color-icon: #878787;\n",
       "  }\n",
       "}\n",
       "\n",
       "#sk-container-id-1 {\n",
       "  color: var(--sklearn-color-text);\n",
       "}\n",
       "\n",
       "#sk-container-id-1 pre {\n",
       "  padding: 0;\n",
       "}\n",
       "\n",
       "#sk-container-id-1 input.sk-hidden--visually {\n",
       "  border: 0;\n",
       "  clip: rect(1px 1px 1px 1px);\n",
       "  clip: rect(1px, 1px, 1px, 1px);\n",
       "  height: 1px;\n",
       "  margin: -1px;\n",
       "  overflow: hidden;\n",
       "  padding: 0;\n",
       "  position: absolute;\n",
       "  width: 1px;\n",
       "}\n",
       "\n",
       "#sk-container-id-1 div.sk-dashed-wrapped {\n",
       "  border: 1px dashed var(--sklearn-color-line);\n",
       "  margin: 0 0.4em 0.5em 0.4em;\n",
       "  box-sizing: border-box;\n",
       "  padding-bottom: 0.4em;\n",
       "  background-color: var(--sklearn-color-background);\n",
       "}\n",
       "\n",
       "#sk-container-id-1 div.sk-container {\n",
       "  /* jupyter's `normalize.less` sets `[hidden] { display: none; }`\n",
       "     but bootstrap.min.css set `[hidden] { display: none !important; }`\n",
       "     so we also need the `!important` here to be able to override the\n",
       "     default hidden behavior on the sphinx rendered scikit-learn.org.\n",
       "     See: https://github.com/scikit-learn/scikit-learn/issues/21755 */\n",
       "  display: inline-block !important;\n",
       "  position: relative;\n",
       "}\n",
       "\n",
       "#sk-container-id-1 div.sk-text-repr-fallback {\n",
       "  display: none;\n",
       "}\n",
       "\n",
       "div.sk-parallel-item,\n",
       "div.sk-serial,\n",
       "div.sk-item {\n",
       "  /* draw centered vertical line to link estimators */\n",
       "  background-image: linear-gradient(var(--sklearn-color-text-on-default-background), var(--sklearn-color-text-on-default-background));\n",
       "  background-size: 2px 100%;\n",
       "  background-repeat: no-repeat;\n",
       "  background-position: center center;\n",
       "}\n",
       "\n",
       "/* Parallel-specific style estimator block */\n",
       "\n",
       "#sk-container-id-1 div.sk-parallel-item::after {\n",
       "  content: \"\";\n",
       "  width: 100%;\n",
       "  border-bottom: 2px solid var(--sklearn-color-text-on-default-background);\n",
       "  flex-grow: 1;\n",
       "}\n",
       "\n",
       "#sk-container-id-1 div.sk-parallel {\n",
       "  display: flex;\n",
       "  align-items: stretch;\n",
       "  justify-content: center;\n",
       "  background-color: var(--sklearn-color-background);\n",
       "  position: relative;\n",
       "}\n",
       "\n",
       "#sk-container-id-1 div.sk-parallel-item {\n",
       "  display: flex;\n",
       "  flex-direction: column;\n",
       "}\n",
       "\n",
       "#sk-container-id-1 div.sk-parallel-item:first-child::after {\n",
       "  align-self: flex-end;\n",
       "  width: 50%;\n",
       "}\n",
       "\n",
       "#sk-container-id-1 div.sk-parallel-item:last-child::after {\n",
       "  align-self: flex-start;\n",
       "  width: 50%;\n",
       "}\n",
       "\n",
       "#sk-container-id-1 div.sk-parallel-item:only-child::after {\n",
       "  width: 0;\n",
       "}\n",
       "\n",
       "/* Serial-specific style estimator block */\n",
       "\n",
       "#sk-container-id-1 div.sk-serial {\n",
       "  display: flex;\n",
       "  flex-direction: column;\n",
       "  align-items: center;\n",
       "  background-color: var(--sklearn-color-background);\n",
       "  padding-right: 1em;\n",
       "  padding-left: 1em;\n",
       "}\n",
       "\n",
       "\n",
       "/* Toggleable style: style used for estimator/Pipeline/ColumnTransformer box that is\n",
       "clickable and can be expanded/collapsed.\n",
       "- Pipeline and ColumnTransformer use this feature and define the default style\n",
       "- Estimators will overwrite some part of the style using the `sk-estimator` class\n",
       "*/\n",
       "\n",
       "/* Pipeline and ColumnTransformer style (default) */\n",
       "\n",
       "#sk-container-id-1 div.sk-toggleable {\n",
       "  /* Default theme specific background. It is overwritten whether we have a\n",
       "  specific estimator or a Pipeline/ColumnTransformer */\n",
       "  background-color: var(--sklearn-color-background);\n",
       "}\n",
       "\n",
       "/* Toggleable label */\n",
       "#sk-container-id-1 label.sk-toggleable__label {\n",
       "  cursor: pointer;\n",
       "  display: block;\n",
       "  width: 100%;\n",
       "  margin-bottom: 0;\n",
       "  padding: 0.5em;\n",
       "  box-sizing: border-box;\n",
       "  text-align: center;\n",
       "}\n",
       "\n",
       "#sk-container-id-1 label.sk-toggleable__label-arrow:before {\n",
       "  /* Arrow on the left of the label */\n",
       "  content: \"▸\";\n",
       "  float: left;\n",
       "  margin-right: 0.25em;\n",
       "  color: var(--sklearn-color-icon);\n",
       "}\n",
       "\n",
       "#sk-container-id-1 label.sk-toggleable__label-arrow:hover:before {\n",
       "  color: var(--sklearn-color-text);\n",
       "}\n",
       "\n",
       "/* Toggleable content - dropdown */\n",
       "\n",
       "#sk-container-id-1 div.sk-toggleable__content {\n",
       "  max-height: 0;\n",
       "  max-width: 0;\n",
       "  overflow: hidden;\n",
       "  text-align: left;\n",
       "  /* unfitted */\n",
       "  background-color: var(--sklearn-color-unfitted-level-0);\n",
       "}\n",
       "\n",
       "#sk-container-id-1 div.sk-toggleable__content.fitted {\n",
       "  /* fitted */\n",
       "  background-color: var(--sklearn-color-fitted-level-0);\n",
       "}\n",
       "\n",
       "#sk-container-id-1 div.sk-toggleable__content pre {\n",
       "  margin: 0.2em;\n",
       "  border-radius: 0.25em;\n",
       "  color: var(--sklearn-color-text);\n",
       "  /* unfitted */\n",
       "  background-color: var(--sklearn-color-unfitted-level-0);\n",
       "}\n",
       "\n",
       "#sk-container-id-1 div.sk-toggleable__content.fitted pre {\n",
       "  /* unfitted */\n",
       "  background-color: var(--sklearn-color-fitted-level-0);\n",
       "}\n",
       "\n",
       "#sk-container-id-1 input.sk-toggleable__control:checked~div.sk-toggleable__content {\n",
       "  /* Expand drop-down */\n",
       "  max-height: 200px;\n",
       "  max-width: 100%;\n",
       "  overflow: auto;\n",
       "}\n",
       "\n",
       "#sk-container-id-1 input.sk-toggleable__control:checked~label.sk-toggleable__label-arrow:before {\n",
       "  content: \"▾\";\n",
       "}\n",
       "\n",
       "/* Pipeline/ColumnTransformer-specific style */\n",
       "\n",
       "#sk-container-id-1 div.sk-label input.sk-toggleable__control:checked~label.sk-toggleable__label {\n",
       "  color: var(--sklearn-color-text);\n",
       "  background-color: var(--sklearn-color-unfitted-level-2);\n",
       "}\n",
       "\n",
       "#sk-container-id-1 div.sk-label.fitted input.sk-toggleable__control:checked~label.sk-toggleable__label {\n",
       "  background-color: var(--sklearn-color-fitted-level-2);\n",
       "}\n",
       "\n",
       "/* Estimator-specific style */\n",
       "\n",
       "/* Colorize estimator box */\n",
       "#sk-container-id-1 div.sk-estimator input.sk-toggleable__control:checked~label.sk-toggleable__label {\n",
       "  /* unfitted */\n",
       "  background-color: var(--sklearn-color-unfitted-level-2);\n",
       "}\n",
       "\n",
       "#sk-container-id-1 div.sk-estimator.fitted input.sk-toggleable__control:checked~label.sk-toggleable__label {\n",
       "  /* fitted */\n",
       "  background-color: var(--sklearn-color-fitted-level-2);\n",
       "}\n",
       "\n",
       "#sk-container-id-1 div.sk-label label.sk-toggleable__label,\n",
       "#sk-container-id-1 div.sk-label label {\n",
       "  /* The background is the default theme color */\n",
       "  color: var(--sklearn-color-text-on-default-background);\n",
       "}\n",
       "\n",
       "/* On hover, darken the color of the background */\n",
       "#sk-container-id-1 div.sk-label:hover label.sk-toggleable__label {\n",
       "  color: var(--sklearn-color-text);\n",
       "  background-color: var(--sklearn-color-unfitted-level-2);\n",
       "}\n",
       "\n",
       "/* Label box, darken color on hover, fitted */\n",
       "#sk-container-id-1 div.sk-label.fitted:hover label.sk-toggleable__label.fitted {\n",
       "  color: var(--sklearn-color-text);\n",
       "  background-color: var(--sklearn-color-fitted-level-2);\n",
       "}\n",
       "\n",
       "/* Estimator label */\n",
       "\n",
       "#sk-container-id-1 div.sk-label label {\n",
       "  font-family: monospace;\n",
       "  font-weight: bold;\n",
       "  display: inline-block;\n",
       "  line-height: 1.2em;\n",
       "}\n",
       "\n",
       "#sk-container-id-1 div.sk-label-container {\n",
       "  text-align: center;\n",
       "}\n",
       "\n",
       "/* Estimator-specific */\n",
       "#sk-container-id-1 div.sk-estimator {\n",
       "  font-family: monospace;\n",
       "  border: 1px dotted var(--sklearn-color-border-box);\n",
       "  border-radius: 0.25em;\n",
       "  box-sizing: border-box;\n",
       "  margin-bottom: 0.5em;\n",
       "  /* unfitted */\n",
       "  background-color: var(--sklearn-color-unfitted-level-0);\n",
       "}\n",
       "\n",
       "#sk-container-id-1 div.sk-estimator.fitted {\n",
       "  /* fitted */\n",
       "  background-color: var(--sklearn-color-fitted-level-0);\n",
       "}\n",
       "\n",
       "/* on hover */\n",
       "#sk-container-id-1 div.sk-estimator:hover {\n",
       "  /* unfitted */\n",
       "  background-color: var(--sklearn-color-unfitted-level-2);\n",
       "}\n",
       "\n",
       "#sk-container-id-1 div.sk-estimator.fitted:hover {\n",
       "  /* fitted */\n",
       "  background-color: var(--sklearn-color-fitted-level-2);\n",
       "}\n",
       "\n",
       "/* Specification for estimator info (e.g. \"i\" and \"?\") */\n",
       "\n",
       "/* Common style for \"i\" and \"?\" */\n",
       "\n",
       ".sk-estimator-doc-link,\n",
       "a:link.sk-estimator-doc-link,\n",
       "a:visited.sk-estimator-doc-link {\n",
       "  float: right;\n",
       "  font-size: smaller;\n",
       "  line-height: 1em;\n",
       "  font-family: monospace;\n",
       "  background-color: var(--sklearn-color-background);\n",
       "  border-radius: 1em;\n",
       "  height: 1em;\n",
       "  width: 1em;\n",
       "  text-decoration: none !important;\n",
       "  margin-left: 1ex;\n",
       "  /* unfitted */\n",
       "  border: var(--sklearn-color-unfitted-level-1) 1pt solid;\n",
       "  color: var(--sklearn-color-unfitted-level-1);\n",
       "}\n",
       "\n",
       ".sk-estimator-doc-link.fitted,\n",
       "a:link.sk-estimator-doc-link.fitted,\n",
       "a:visited.sk-estimator-doc-link.fitted {\n",
       "  /* fitted */\n",
       "  border: var(--sklearn-color-fitted-level-1) 1pt solid;\n",
       "  color: var(--sklearn-color-fitted-level-1);\n",
       "}\n",
       "\n",
       "/* On hover */\n",
       "div.sk-estimator:hover .sk-estimator-doc-link:hover,\n",
       ".sk-estimator-doc-link:hover,\n",
       "div.sk-label-container:hover .sk-estimator-doc-link:hover,\n",
       ".sk-estimator-doc-link:hover {\n",
       "  /* unfitted */\n",
       "  background-color: var(--sklearn-color-unfitted-level-3);\n",
       "  color: var(--sklearn-color-background);\n",
       "  text-decoration: none;\n",
       "}\n",
       "\n",
       "div.sk-estimator.fitted:hover .sk-estimator-doc-link.fitted:hover,\n",
       ".sk-estimator-doc-link.fitted:hover,\n",
       "div.sk-label-container:hover .sk-estimator-doc-link.fitted:hover,\n",
       ".sk-estimator-doc-link.fitted:hover {\n",
       "  /* fitted */\n",
       "  background-color: var(--sklearn-color-fitted-level-3);\n",
       "  color: var(--sklearn-color-background);\n",
       "  text-decoration: none;\n",
       "}\n",
       "\n",
       "/* Span, style for the box shown on hovering the info icon */\n",
       ".sk-estimator-doc-link span {\n",
       "  display: none;\n",
       "  z-index: 9999;\n",
       "  position: relative;\n",
       "  font-weight: normal;\n",
       "  right: .2ex;\n",
       "  padding: .5ex;\n",
       "  margin: .5ex;\n",
       "  width: min-content;\n",
       "  min-width: 20ex;\n",
       "  max-width: 50ex;\n",
       "  color: var(--sklearn-color-text);\n",
       "  box-shadow: 2pt 2pt 4pt #999;\n",
       "  /* unfitted */\n",
       "  background: var(--sklearn-color-unfitted-level-0);\n",
       "  border: .5pt solid var(--sklearn-color-unfitted-level-3);\n",
       "}\n",
       "\n",
       ".sk-estimator-doc-link.fitted span {\n",
       "  /* fitted */\n",
       "  background: var(--sklearn-color-fitted-level-0);\n",
       "  border: var(--sklearn-color-fitted-level-3);\n",
       "}\n",
       "\n",
       ".sk-estimator-doc-link:hover span {\n",
       "  display: block;\n",
       "}\n",
       "\n",
       "/* \"?\"-specific style due to the `<a>` HTML tag */\n",
       "\n",
       "#sk-container-id-1 a.estimator_doc_link {\n",
       "  float: right;\n",
       "  font-size: 1rem;\n",
       "  line-height: 1em;\n",
       "  font-family: monospace;\n",
       "  background-color: var(--sklearn-color-background);\n",
       "  border-radius: 1rem;\n",
       "  height: 1rem;\n",
       "  width: 1rem;\n",
       "  text-decoration: none;\n",
       "  /* unfitted */\n",
       "  color: var(--sklearn-color-unfitted-level-1);\n",
       "  border: var(--sklearn-color-unfitted-level-1) 1pt solid;\n",
       "}\n",
       "\n",
       "#sk-container-id-1 a.estimator_doc_link.fitted {\n",
       "  /* fitted */\n",
       "  border: var(--sklearn-color-fitted-level-1) 1pt solid;\n",
       "  color: var(--sklearn-color-fitted-level-1);\n",
       "}\n",
       "\n",
       "/* On hover */\n",
       "#sk-container-id-1 a.estimator_doc_link:hover {\n",
       "  /* unfitted */\n",
       "  background-color: var(--sklearn-color-unfitted-level-3);\n",
       "  color: var(--sklearn-color-background);\n",
       "  text-decoration: none;\n",
       "}\n",
       "\n",
       "#sk-container-id-1 a.estimator_doc_link.fitted:hover {\n",
       "  /* fitted */\n",
       "  background-color: var(--sklearn-color-fitted-level-3);\n",
       "}\n",
       "</style><div id=\"sk-container-id-1\" class=\"sk-top-container\"><div class=\"sk-text-repr-fallback\"><pre>Pipeline(steps=[(&#x27;scaler&#x27;, StandardScaler()), (&#x27;sampler&#x27;, RandomOverSampler()),\n",
       "                (&#x27;model&#x27;,\n",
       "                 RandomForestClassifier(ccp_alpha=0.006370568744783853,\n",
       "                                        class_weight=&#x27;balanced_subsample&#x27;,\n",
       "                                        criterion=&#x27;entropy&#x27;, max_depth=15,\n",
       "                                        max_features=0.1, max_leaf_nodes=597,\n",
       "                                        min_samples_split=8, n_estimators=288,\n",
       "                                        n_jobs=-1))])</pre><b>In a Jupyter environment, please rerun this cell to show the HTML representation or trust the notebook. <br />On GitHub, the HTML representation is unable to render, please try loading this page with nbviewer.org.</b></div><div class=\"sk-container\" hidden><div class=\"sk-item sk-dashed-wrapped\"><div class=\"sk-label-container\"><div class=\"sk-label fitted sk-toggleable\"><input class=\"sk-toggleable__control sk-hidden--visually\" id=\"sk-estimator-id-1\" type=\"checkbox\" ><label for=\"sk-estimator-id-1\" class=\"sk-toggleable__label fitted sk-toggleable__label-arrow fitted\">&nbsp;Pipeline<span class=\"sk-estimator-doc-link fitted\">i<span>Fitted</span></span></label><div class=\"sk-toggleable__content fitted\"><pre>Pipeline(steps=[(&#x27;scaler&#x27;, StandardScaler()), (&#x27;sampler&#x27;, RandomOverSampler()),\n",
       "                (&#x27;model&#x27;,\n",
       "                 RandomForestClassifier(ccp_alpha=0.006370568744783853,\n",
       "                                        class_weight=&#x27;balanced_subsample&#x27;,\n",
       "                                        criterion=&#x27;entropy&#x27;, max_depth=15,\n",
       "                                        max_features=0.1, max_leaf_nodes=597,\n",
       "                                        min_samples_split=8, n_estimators=288,\n",
       "                                        n_jobs=-1))])</pre></div> </div></div><div class=\"sk-serial\"><div class=\"sk-item\"><div class=\"sk-estimator fitted sk-toggleable\"><input class=\"sk-toggleable__control sk-hidden--visually\" id=\"sk-estimator-id-2\" type=\"checkbox\" ><label for=\"sk-estimator-id-2\" class=\"sk-toggleable__label fitted sk-toggleable__label-arrow fitted\">&nbsp;StandardScaler<a class=\"sk-estimator-doc-link fitted\" rel=\"noreferrer\" target=\"_blank\" href=\"https://scikit-learn.org/1.4/modules/generated/sklearn.preprocessing.StandardScaler.html\">?<span>Documentation for StandardScaler</span></a></label><div class=\"sk-toggleable__content fitted\"><pre>StandardScaler()</pre></div> </div></div><div class=\"sk-item\"><div class=\"sk-estimator fitted sk-toggleable\"><input class=\"sk-toggleable__control sk-hidden--visually\" id=\"sk-estimator-id-3\" type=\"checkbox\" ><label for=\"sk-estimator-id-3\" class=\"sk-toggleable__label fitted sk-toggleable__label-arrow fitted\">RandomOverSampler</label><div class=\"sk-toggleable__content fitted\"><pre>RandomOverSampler()</pre></div> </div></div><div class=\"sk-item\"><div class=\"sk-estimator fitted sk-toggleable\"><input class=\"sk-toggleable__control sk-hidden--visually\" id=\"sk-estimator-id-4\" type=\"checkbox\" ><label for=\"sk-estimator-id-4\" class=\"sk-toggleable__label fitted sk-toggleable__label-arrow fitted\">&nbsp;RandomForestClassifier<a class=\"sk-estimator-doc-link fitted\" rel=\"noreferrer\" target=\"_blank\" href=\"https://scikit-learn.org/1.4/modules/generated/sklearn.ensemble.RandomForestClassifier.html\">?<span>Documentation for RandomForestClassifier</span></a></label><div class=\"sk-toggleable__content fitted\"><pre>RandomForestClassifier(ccp_alpha=0.006370568744783853,\n",
       "                       class_weight=&#x27;balanced_subsample&#x27;, criterion=&#x27;entropy&#x27;,\n",
       "                       max_depth=15, max_features=0.1, max_leaf_nodes=597,\n",
       "                       min_samples_split=8, n_estimators=288, n_jobs=-1)</pre></div> </div></div></div></div></div></div>"
      ],
      "text/plain": [
       "Pipeline(steps=[('scaler', StandardScaler()), ('sampler', RandomOverSampler()),\n",
       "                ('model',\n",
       "                 RandomForestClassifier(ccp_alpha=0.006370568744783853,\n",
       "                                        class_weight='balanced_subsample',\n",
       "                                        criterion='entropy', max_depth=15,\n",
       "                                        max_features=0.1, max_leaf_nodes=597,\n",
       "                                        min_samples_split=8, n_estimators=288,\n",
       "                                        n_jobs=-1))])"
      ]
     },
     "execution_count": 7,
     "metadata": {},
     "output_type": "execute_result"
    }
   ],
   "source": [
    "from sklearn.ensemble import RandomForestClassifier\n",
    "from sklearn.preprocessing import StandardScaler\n",
    "from sklearn.preprocessing import MinMaxScaler\n",
    "\n",
    "# imblearn modules\n",
    "from imblearn.pipeline import Pipeline as Pipeline\n",
    "from imblearn.over_sampling import RandomOverSampler\n",
    "\n",
    "best_params = {'ccp_alpha': 0.006370568744783853,\n",
    " 'class_weight': 'balanced_subsample',\n",
    " 'criterion': 'entropy',\n",
    " 'max_depth': 15,\n",
    " 'max_features': 0.1,\n",
    " 'max_leaf_nodes': 597,\n",
    " 'min_impurity_decrease': 0.0,\n",
    " 'min_samples_split': 8,\n",
    " 'min_weight_fraction_leaf': 0.0,\n",
    " 'n_estimators': 288,\n",
    "#  \"random_state\": 0\n",
    " }\n",
    "\n",
    "\n",
    "rf_pipeline = Pipeline([\n",
    "    # (\"scaler\", MinMaxScaler()),\n",
    "    (\"scaler\", StandardScaler()),\n",
    "    (\"sampler\", RandomOverSampler(sampling_strategy='auto')),\n",
    "    (\"model\",RandomForestClassifier(**best_params,n_jobs=-1)),\n",
    "]\n",
    ")\n",
    "\n",
    "rf_pipeline.fit(X_train,y_train)"
   ]
  },
  {
   "cell_type": "code",
   "execution_count": 10,
   "metadata": {},
   "outputs": [
    {
     "name": "stdout",
     "output_type": "stream",
     "text": [
      "precision: 0.25\n",
      "accuracy: 0.983433734939759\n",
      "f1: 0.21428571428571427\n",
      "recall: 0.1875\n",
      "auc: 3.5\n"
     ]
    }
   ],
   "source": [
    "# Scores from training data\n",
    "from sklearn.metrics import precision_score, accuracy_score, f1_score, auc, recall_score\n",
    "\n",
    "y_pred = rf_pipeline.predict(X_test)\n",
    "\n",
    "print(f'precision: {precision_score(y_pred,y_test)}')\n",
    "print(f'accuracy: {accuracy_score(y_pred,y_test)}')\n",
    "print(f'f1: {f1_score(y_pred,y_test)}')\n",
    "print(f'recall: {recall_score(y_pred,y_test)}')\n",
    "print(f'auc: {auc(y_pred,y_test)}')"
   ]
  },
  {
   "cell_type": "code",
   "execution_count": null,
   "metadata": {},
   "outputs": [],
   "source": [
    "# Saving the fitted model as a pickle file\n",
    "# with open('RF 0.25 test split--0.25 precision.pickle','wb') as f:\n",
    "#     pickle.dump(rf_pipeline, f)"
   ]
  },
  {
   "cell_type": "markdown",
   "metadata": {},
   "source": [
    "# Deployment"
   ]
  },
  {
   "cell_type": "code",
   "execution_count": null,
   "metadata": {},
   "outputs": [
    {
     "data": {
      "text/html": [
       "<div>\n",
       "<style scoped>\n",
       "    .dataframe tbody tr th:only-of-type {\n",
       "        vertical-align: middle;\n",
       "    }\n",
       "\n",
       "    .dataframe tbody tr th {\n",
       "        vertical-align: top;\n",
       "    }\n",
       "\n",
       "    .dataframe thead th {\n",
       "        text-align: right;\n",
       "    }\n",
       "</style>\n",
       "<table border=\"1\" class=\"dataframe\">\n",
       "  <thead>\n",
       "    <tr style=\"text-align: right;\">\n",
       "      <th></th>\n",
       "      <th>MaxAbsEStateIndex</th>\n",
       "      <th>MaxEStateIndex</th>\n",
       "      <th>MinAbsEStateIndex</th>\n",
       "      <th>MinEStateIndex</th>\n",
       "      <th>qed</th>\n",
       "      <th>SPS</th>\n",
       "      <th>MolWt</th>\n",
       "      <th>HeavyAtomMolWt</th>\n",
       "      <th>ExactMolWt</th>\n",
       "      <th>FpDensityMorgan1</th>\n",
       "      <th>...</th>\n",
       "      <th>VSA_EState4</th>\n",
       "      <th>VSA_EState7</th>\n",
       "      <th>VSA_EState8</th>\n",
       "      <th>FractionCSP3</th>\n",
       "      <th>NumAliphaticCarbocycles</th>\n",
       "      <th>NumAromaticRings</th>\n",
       "      <th>NumRotatableBonds</th>\n",
       "      <th>MolLogP</th>\n",
       "      <th>MolMR</th>\n",
       "      <th>fr_bicyclic</th>\n",
       "    </tr>\n",
       "  </thead>\n",
       "  <tbody>\n",
       "    <tr>\n",
       "      <th>Lapatinib ditosylate monohydrate</th>\n",
       "      <td>13.430803</td>\n",
       "      <td>13.430803</td>\n",
       "      <td>0.000000</td>\n",
       "      <td>-4.019583</td>\n",
       "      <td>0.063664</td>\n",
       "      <td>11.349206</td>\n",
       "      <td>943.494</td>\n",
       "      <td>899.142</td>\n",
       "      <td>942.184127</td>\n",
       "      <td>0.761905</td>\n",
       "      <td>...</td>\n",
       "      <td>4.903385</td>\n",
       "      <td>2.691680</td>\n",
       "      <td>4.638288</td>\n",
       "      <td>0.162791</td>\n",
       "      <td>0</td>\n",
       "      <td>7</td>\n",
       "      <td>13</td>\n",
       "      <td>7.79784</td>\n",
       "      <td>239.7252</td>\n",
       "      <td>1</td>\n",
       "    </tr>\n",
       "    <tr>\n",
       "      <th>Capsaicin</th>\n",
       "      <td>11.768937</td>\n",
       "      <td>11.768937</td>\n",
       "      <td>0.055445</td>\n",
       "      <td>0.055445</td>\n",
       "      <td>0.538861</td>\n",
       "      <td>11.090909</td>\n",
       "      <td>305.418</td>\n",
       "      <td>278.202</td>\n",
       "      <td>305.199094</td>\n",
       "      <td>1.363636</td>\n",
       "      <td>...</td>\n",
       "      <td>0.905432</td>\n",
       "      <td>7.880722</td>\n",
       "      <td>4.757198</td>\n",
       "      <td>0.500000</td>\n",
       "      <td>0</td>\n",
       "      <td>1</td>\n",
       "      <td>9</td>\n",
       "      <td>3.78960</td>\n",
       "      <td>88.9515</td>\n",
       "      <td>0</td>\n",
       "    </tr>\n",
       "    <tr>\n",
       "      <th>Sunitinib</th>\n",
       "      <td>13.650463</td>\n",
       "      <td>13.650463</td>\n",
       "      <td>0.143172</td>\n",
       "      <td>-0.403882</td>\n",
       "      <td>0.626303</td>\n",
       "      <td>14.413793</td>\n",
       "      <td>398.482</td>\n",
       "      <td>371.266</td>\n",
       "      <td>398.211804</td>\n",
       "      <td>1.241379</td>\n",
       "      <td>...</td>\n",
       "      <td>4.204299</td>\n",
       "      <td>1.676211</td>\n",
       "      <td>11.095507</td>\n",
       "      <td>0.363636</td>\n",
       "      <td>0</td>\n",
       "      <td>2</td>\n",
       "      <td>7</td>\n",
       "      <td>3.33494</td>\n",
       "      <td>113.2886</td>\n",
       "      <td>1</td>\n",
       "    </tr>\n",
       "    <tr>\n",
       "      <th>Ellipticine</th>\n",
       "      <td>4.275863</td>\n",
       "      <td>4.275863</td>\n",
       "      <td>1.200894</td>\n",
       "      <td>1.200894</td>\n",
       "      <td>0.486410</td>\n",
       "      <td>11.684211</td>\n",
       "      <td>246.313</td>\n",
       "      <td>232.201</td>\n",
       "      <td>246.115698</td>\n",
       "      <td>0.894737</td>\n",
       "      <td>...</td>\n",
       "      <td>5.055292</td>\n",
       "      <td>3.835457</td>\n",
       "      <td>4.366620</td>\n",
       "      <td>0.117647</td>\n",
       "      <td>0</td>\n",
       "      <td>4</td>\n",
       "      <td>0</td>\n",
       "      <td>4.48614</td>\n",
       "      <td>80.5797</td>\n",
       "      <td>4</td>\n",
       "    </tr>\n",
       "    <tr>\n",
       "      <th>Irinotecan Hydrochloride</th>\n",
       "      <td>13.581173</td>\n",
       "      <td>13.581173</td>\n",
       "      <td>0.000000</td>\n",
       "      <td>-1.863974</td>\n",
       "      <td>0.330802</td>\n",
       "      <td>21.704545</td>\n",
       "      <td>623.150</td>\n",
       "      <td>583.838</td>\n",
       "      <td>622.255813</td>\n",
       "      <td>1.068182</td>\n",
       "      <td>...</td>\n",
       "      <td>2.384836</td>\n",
       "      <td>6.261552</td>\n",
       "      <td>7.649151</td>\n",
       "      <td>0.515152</td>\n",
       "      <td>0</td>\n",
       "      <td>3</td>\n",
       "      <td>4</td>\n",
       "      <td>4.51290</td>\n",
       "      <td>167.1938</td>\n",
       "      <td>5</td>\n",
       "    </tr>\n",
       "    <tr>\n",
       "      <th>...</th>\n",
       "      <td>...</td>\n",
       "      <td>...</td>\n",
       "      <td>...</td>\n",
       "      <td>...</td>\n",
       "      <td>...</td>\n",
       "      <td>...</td>\n",
       "      <td>...</td>\n",
       "      <td>...</td>\n",
       "      <td>...</td>\n",
       "      <td>...</td>\n",
       "      <td>...</td>\n",
       "      <td>...</td>\n",
       "      <td>...</td>\n",
       "      <td>...</td>\n",
       "      <td>...</td>\n",
       "      <td>...</td>\n",
       "      <td>...</td>\n",
       "      <td>...</td>\n",
       "      <td>...</td>\n",
       "      <td>...</td>\n",
       "      <td>...</td>\n",
       "    </tr>\n",
       "    <tr>\n",
       "      <th>Voreloxin (SNS-595) hydrochloride</th>\n",
       "      <td>12.626284</td>\n",
       "      <td>12.626284</td>\n",
       "      <td>0.000000</td>\n",
       "      <td>-1.277200</td>\n",
       "      <td>0.615800</td>\n",
       "      <td>18.758621</td>\n",
       "      <td>437.909</td>\n",
       "      <td>417.749</td>\n",
       "      <td>437.092453</td>\n",
       "      <td>1.379310</td>\n",
       "      <td>...</td>\n",
       "      <td>-0.489733</td>\n",
       "      <td>2.939015</td>\n",
       "      <td>1.372434</td>\n",
       "      <td>0.333333</td>\n",
       "      <td>0</td>\n",
       "      <td>3</td>\n",
       "      <td>5</td>\n",
       "      <td>1.38520</td>\n",
       "      <td>113.0770</td>\n",
       "      <td>1</td>\n",
       "    </tr>\n",
       "    <tr>\n",
       "      <th>Cefadroxil hydrate</th>\n",
       "      <td>12.324446</td>\n",
       "      <td>12.324446</td>\n",
       "      <td>0.000000</td>\n",
       "      <td>-1.151184</td>\n",
       "      <td>0.501913</td>\n",
       "      <td>22.692308</td>\n",
       "      <td>381.410</td>\n",
       "      <td>362.258</td>\n",
       "      <td>381.099456</td>\n",
       "      <td>1.346154</td>\n",
       "      <td>...</td>\n",
       "      <td>7.001585</td>\n",
       "      <td>0.000000</td>\n",
       "      <td>1.673209</td>\n",
       "      <td>0.312500</td>\n",
       "      <td>0</td>\n",
       "      <td>1</td>\n",
       "      <td>4</td>\n",
       "      <td>-0.67420</td>\n",
       "      <td>94.0075</td>\n",
       "      <td>1</td>\n",
       "    </tr>\n",
       "    <tr>\n",
       "      <th>Zofenopril calcium</th>\n",
       "      <td>12.908119</td>\n",
       "      <td>12.908119</td>\n",
       "      <td>0.000000</td>\n",
       "      <td>-1.227105</td>\n",
       "      <td>0.156025</td>\n",
       "      <td>19.355932</td>\n",
       "      <td>897.188</td>\n",
       "      <td>852.836</td>\n",
       "      <td>896.160641</td>\n",
       "      <td>0.542373</td>\n",
       "      <td>...</td>\n",
       "      <td>1.176406</td>\n",
       "      <td>0.715165</td>\n",
       "      <td>4.187084</td>\n",
       "      <td>0.318182</td>\n",
       "      <td>0</td>\n",
       "      <td>4</td>\n",
       "      <td>14</td>\n",
       "      <td>5.03480</td>\n",
       "      <td>232.9670</td>\n",
       "      <td>0</td>\n",
       "    </tr>\n",
       "    <tr>\n",
       "      <th>Heparin sodium</th>\n",
       "      <td>10.549690</td>\n",
       "      <td>10.549690</td>\n",
       "      <td>0.000000</td>\n",
       "      <td>-0.111181</td>\n",
       "      <td>0.451282</td>\n",
       "      <td>19.687500</td>\n",
       "      <td>241.267</td>\n",
       "      <td>221.107</td>\n",
       "      <td>241.140236</td>\n",
       "      <td>0.812500</td>\n",
       "      <td>...</td>\n",
       "      <td>0.000000</td>\n",
       "      <td>0.000000</td>\n",
       "      <td>4.070092</td>\n",
       "      <td>1.000000</td>\n",
       "      <td>0</td>\n",
       "      <td>0</td>\n",
       "      <td>6</td>\n",
       "      <td>-5.87260</td>\n",
       "      <td>53.7576</td>\n",
       "      <td>0</td>\n",
       "    </tr>\n",
       "    <tr>\n",
       "      <th>Piperaquine phosphate</th>\n",
       "      <td>8.881944</td>\n",
       "      <td>8.881944</td>\n",
       "      <td>0.735746</td>\n",
       "      <td>-4.638889</td>\n",
       "      <td>0.262446</td>\n",
       "      <td>16.976190</td>\n",
       "      <td>633.517</td>\n",
       "      <td>598.237</td>\n",
       "      <td>632.183446</td>\n",
       "      <td>0.642857</td>\n",
       "      <td>...</td>\n",
       "      <td>4.469079</td>\n",
       "      <td>5.007087</td>\n",
       "      <td>10.920976</td>\n",
       "      <td>0.379310</td>\n",
       "      <td>0</td>\n",
       "      <td>4</td>\n",
       "      <td>6</td>\n",
       "      <td>4.49550</td>\n",
       "      <td>169.6919</td>\n",
       "      <td>2</td>\n",
       "    </tr>\n",
       "  </tbody>\n",
       "</table>\n",
       "<p>5041 rows × 64 columns</p>\n",
       "</div>"
      ],
      "text/plain": [
       "                                   MaxAbsEStateIndex  MaxEStateIndex  \\\n",
       "Lapatinib ditosylate monohydrate           13.430803       13.430803   \n",
       "Capsaicin                                  11.768937       11.768937   \n",
       "Sunitinib                                  13.650463       13.650463   \n",
       "Ellipticine                                 4.275863        4.275863   \n",
       "Irinotecan Hydrochloride                   13.581173       13.581173   \n",
       "...                                              ...             ...   \n",
       "Voreloxin (SNS-595) hydrochloride          12.626284       12.626284   \n",
       "Cefadroxil hydrate                         12.324446       12.324446   \n",
       "Zofenopril calcium                         12.908119       12.908119   \n",
       "Heparin sodium                             10.549690       10.549690   \n",
       "Piperaquine phosphate                       8.881944        8.881944   \n",
       "\n",
       "                                   MinAbsEStateIndex  MinEStateIndex  \\\n",
       "Lapatinib ditosylate monohydrate            0.000000       -4.019583   \n",
       "Capsaicin                                   0.055445        0.055445   \n",
       "Sunitinib                                   0.143172       -0.403882   \n",
       "Ellipticine                                 1.200894        1.200894   \n",
       "Irinotecan Hydrochloride                    0.000000       -1.863974   \n",
       "...                                              ...             ...   \n",
       "Voreloxin (SNS-595) hydrochloride           0.000000       -1.277200   \n",
       "Cefadroxil hydrate                          0.000000       -1.151184   \n",
       "Zofenopril calcium                          0.000000       -1.227105   \n",
       "Heparin sodium                              0.000000       -0.111181   \n",
       "Piperaquine phosphate                       0.735746       -4.638889   \n",
       "\n",
       "                                        qed        SPS    MolWt  \\\n",
       "Lapatinib ditosylate monohydrate   0.063664  11.349206  943.494   \n",
       "Capsaicin                          0.538861  11.090909  305.418   \n",
       "Sunitinib                          0.626303  14.413793  398.482   \n",
       "Ellipticine                        0.486410  11.684211  246.313   \n",
       "Irinotecan Hydrochloride           0.330802  21.704545  623.150   \n",
       "...                                     ...        ...      ...   \n",
       "Voreloxin (SNS-595) hydrochloride  0.615800  18.758621  437.909   \n",
       "Cefadroxil hydrate                 0.501913  22.692308  381.410   \n",
       "Zofenopril calcium                 0.156025  19.355932  897.188   \n",
       "Heparin sodium                     0.451282  19.687500  241.267   \n",
       "Piperaquine phosphate              0.262446  16.976190  633.517   \n",
       "\n",
       "                                   HeavyAtomMolWt  ExactMolWt  \\\n",
       "Lapatinib ditosylate monohydrate          899.142  942.184127   \n",
       "Capsaicin                                 278.202  305.199094   \n",
       "Sunitinib                                 371.266  398.211804   \n",
       "Ellipticine                               232.201  246.115698   \n",
       "Irinotecan Hydrochloride                  583.838  622.255813   \n",
       "...                                           ...         ...   \n",
       "Voreloxin (SNS-595) hydrochloride         417.749  437.092453   \n",
       "Cefadroxil hydrate                        362.258  381.099456   \n",
       "Zofenopril calcium                        852.836  896.160641   \n",
       "Heparin sodium                            221.107  241.140236   \n",
       "Piperaquine phosphate                     598.237  632.183446   \n",
       "\n",
       "                                   FpDensityMorgan1  ...  VSA_EState4  \\\n",
       "Lapatinib ditosylate monohydrate           0.761905  ...     4.903385   \n",
       "Capsaicin                                  1.363636  ...     0.905432   \n",
       "Sunitinib                                  1.241379  ...     4.204299   \n",
       "Ellipticine                                0.894737  ...     5.055292   \n",
       "Irinotecan Hydrochloride                   1.068182  ...     2.384836   \n",
       "...                                             ...  ...          ...   \n",
       "Voreloxin (SNS-595) hydrochloride          1.379310  ...    -0.489733   \n",
       "Cefadroxil hydrate                         1.346154  ...     7.001585   \n",
       "Zofenopril calcium                         0.542373  ...     1.176406   \n",
       "Heparin sodium                             0.812500  ...     0.000000   \n",
       "Piperaquine phosphate                      0.642857  ...     4.469079   \n",
       "\n",
       "                                   VSA_EState7  VSA_EState8  FractionCSP3  \\\n",
       "Lapatinib ditosylate monohydrate      2.691680     4.638288      0.162791   \n",
       "Capsaicin                             7.880722     4.757198      0.500000   \n",
       "Sunitinib                             1.676211    11.095507      0.363636   \n",
       "Ellipticine                           3.835457     4.366620      0.117647   \n",
       "Irinotecan Hydrochloride              6.261552     7.649151      0.515152   \n",
       "...                                        ...          ...           ...   \n",
       "Voreloxin (SNS-595) hydrochloride     2.939015     1.372434      0.333333   \n",
       "Cefadroxil hydrate                    0.000000     1.673209      0.312500   \n",
       "Zofenopril calcium                    0.715165     4.187084      0.318182   \n",
       "Heparin sodium                        0.000000     4.070092      1.000000   \n",
       "Piperaquine phosphate                 5.007087    10.920976      0.379310   \n",
       "\n",
       "                                   NumAliphaticCarbocycles  NumAromaticRings  \\\n",
       "Lapatinib ditosylate monohydrate                         0                 7   \n",
       "Capsaicin                                                0                 1   \n",
       "Sunitinib                                                0                 2   \n",
       "Ellipticine                                              0                 4   \n",
       "Irinotecan Hydrochloride                                 0                 3   \n",
       "...                                                    ...               ...   \n",
       "Voreloxin (SNS-595) hydrochloride                        0                 3   \n",
       "Cefadroxil hydrate                                       0                 1   \n",
       "Zofenopril calcium                                       0                 4   \n",
       "Heparin sodium                                           0                 0   \n",
       "Piperaquine phosphate                                    0                 4   \n",
       "\n",
       "                                   NumRotatableBonds  MolLogP     MolMR  \\\n",
       "Lapatinib ditosylate monohydrate                  13  7.79784  239.7252   \n",
       "Capsaicin                                          9  3.78960   88.9515   \n",
       "Sunitinib                                          7  3.33494  113.2886   \n",
       "Ellipticine                                        0  4.48614   80.5797   \n",
       "Irinotecan Hydrochloride                           4  4.51290  167.1938   \n",
       "...                                              ...      ...       ...   \n",
       "Voreloxin (SNS-595) hydrochloride                  5  1.38520  113.0770   \n",
       "Cefadroxil hydrate                                 4 -0.67420   94.0075   \n",
       "Zofenopril calcium                                14  5.03480  232.9670   \n",
       "Heparin sodium                                     6 -5.87260   53.7576   \n",
       "Piperaquine phosphate                              6  4.49550  169.6919   \n",
       "\n",
       "                                   fr_bicyclic  \n",
       "Lapatinib ditosylate monohydrate             1  \n",
       "Capsaicin                                    0  \n",
       "Sunitinib                                    1  \n",
       "Ellipticine                                  4  \n",
       "Irinotecan Hydrochloride                     5  \n",
       "...                                        ...  \n",
       "Voreloxin (SNS-595) hydrochloride            1  \n",
       "Cefadroxil hydrate                           1  \n",
       "Zofenopril calcium                           0  \n",
       "Heparin sodium                               0  \n",
       "Piperaquine phosphate                        2  \n",
       "\n",
       "[5041 rows x 64 columns]"
      ]
     },
     "execution_count": 320,
     "metadata": {},
     "output_type": "execute_result"
    }
   ],
   "source": [
    "# Apply the selected features on the discovery data\n",
    "discovery_metadata_descriptors[selected_features]"
   ]
  },
  {
   "cell_type": "code",
   "execution_count": null,
   "metadata": {},
   "outputs": [
    {
     "name": "stderr",
     "output_type": "stream",
     "text": [
      "/Users/allenshaw/anaconda3/lib/python3.11/site-packages/sklearn/ensemble/_forest.py:995: RuntimeWarning:\n",
      "\n",
      "divide by zero encountered in log\n",
      "\n"
     ]
    }
   ],
   "source": [
    "discovery_y_pred = rf_pipeline.predict(discovery_metadata_descriptors[selected_features])\n",
    "discovery_y_proba = rf_pipeline.predict_proba(discovery_metadata_descriptors[selected_features])\n",
    "discovery_y_log_proba = rf_pipeline.predict_log_proba(discovery_metadata_descriptors[selected_features])"
   ]
  },
  {
   "cell_type": "code",
   "execution_count": null,
   "metadata": {},
   "outputs": [],
   "source": [
    "discovery_y_pred = pd.Series(discovery_y_pred,index=discovery_metadata_descriptors.index.values, name='y_pred')\n",
    "discovery_y_proba = pd.Series(discovery_y_proba[:,1],index=discovery_metadata_descriptors.index.values, name='y_proba')\n",
    "discovery_y_log_proba = pd.Series(discovery_y_log_proba[:,1],index=discovery_metadata_descriptors.index.values, name='y_proba')"
   ]
  },
  {
   "cell_type": "code",
   "execution_count": 323,
   "metadata": {},
   "outputs": [],
   "source": [
    "predictions = pd.concat([discovery_y_pred, discovery_y_proba],axis=1)"
   ]
  },
  {
   "cell_type": "code",
   "execution_count": 324,
   "metadata": {},
   "outputs": [
    {
     "data": {
      "text/html": [
       "<div>\n",
       "<style scoped>\n",
       "    .dataframe tbody tr th:only-of-type {\n",
       "        vertical-align: middle;\n",
       "    }\n",
       "\n",
       "    .dataframe tbody tr th {\n",
       "        vertical-align: top;\n",
       "    }\n",
       "\n",
       "    .dataframe thead th {\n",
       "        text-align: right;\n",
       "    }\n",
       "</style>\n",
       "<table border=\"1\" class=\"dataframe\">\n",
       "  <thead>\n",
       "    <tr style=\"text-align: right;\">\n",
       "      <th></th>\n",
       "      <th>y_pred</th>\n",
       "      <th>y_proba</th>\n",
       "    </tr>\n",
       "  </thead>\n",
       "  <tbody>\n",
       "    <tr>\n",
       "      <th>Betamethasone Valerate</th>\n",
       "      <td>True</td>\n",
       "      <td>0.837769</td>\n",
       "    </tr>\n",
       "    <tr>\n",
       "      <th>Guvacine hydrochloride</th>\n",
       "      <td>True</td>\n",
       "      <td>0.788135</td>\n",
       "    </tr>\n",
       "    <tr>\n",
       "      <th>Rofleponide</th>\n",
       "      <td>True</td>\n",
       "      <td>0.774254</td>\n",
       "    </tr>\n",
       "    <tr>\n",
       "      <th>Isoguvacine hydrochloride</th>\n",
       "      <td>True</td>\n",
       "      <td>0.770530</td>\n",
       "    </tr>\n",
       "    <tr>\n",
       "      <th>Diflucortolone valerate</th>\n",
       "      <td>True</td>\n",
       "      <td>0.720680</td>\n",
       "    </tr>\n",
       "    <tr>\n",
       "      <th>...</th>\n",
       "      <td>...</td>\n",
       "      <td>...</td>\n",
       "    </tr>\n",
       "    <tr>\n",
       "      <th>NLS PKKKRKV acetate(95088-49-6  free base)</th>\n",
       "      <td>False</td>\n",
       "      <td>0.000000</td>\n",
       "    </tr>\n",
       "    <tr>\n",
       "      <th>Lactitol</th>\n",
       "      <td>False</td>\n",
       "      <td>0.000000</td>\n",
       "    </tr>\n",
       "    <tr>\n",
       "      <th>Butoconazole</th>\n",
       "      <td>False</td>\n",
       "      <td>0.000000</td>\n",
       "    </tr>\n",
       "    <tr>\n",
       "      <th>Ilginatinib maleate</th>\n",
       "      <td>False</td>\n",
       "      <td>0.000000</td>\n",
       "    </tr>\n",
       "    <tr>\n",
       "      <th>Lapatinib ditosylate monohydrate</th>\n",
       "      <td>False</td>\n",
       "      <td>0.000000</td>\n",
       "    </tr>\n",
       "  </tbody>\n",
       "</table>\n",
       "<p>5041 rows × 2 columns</p>\n",
       "</div>"
      ],
      "text/plain": [
       "                                            y_pred   y_proba\n",
       "Betamethasone Valerate                        True  0.837769\n",
       "Guvacine hydrochloride                        True  0.788135\n",
       "Rofleponide                                   True  0.774254\n",
       "Isoguvacine hydrochloride                     True  0.770530\n",
       "Diflucortolone valerate                       True  0.720680\n",
       "...                                            ...       ...\n",
       "NLS PKKKRKV acetate(95088-49-6  free base)   False  0.000000\n",
       "Lactitol                                     False  0.000000\n",
       "Butoconazole                                 False  0.000000\n",
       "Ilginatinib maleate                          False  0.000000\n",
       "Lapatinib ditosylate monohydrate             False  0.000000\n",
       "\n",
       "[5041 rows x 2 columns]"
      ]
     },
     "execution_count": 324,
     "metadata": {},
     "output_type": "execute_result"
    }
   ],
   "source": [
    "predictions.sort_values(by='y_proba',ascending=False)"
   ]
  },
  {
   "cell_type": "code",
   "execution_count": 342,
   "metadata": {},
   "outputs": [
    {
     "data": {
      "text/plain": [
       "Lapatinib ditosylate monohydrate         -inf\n",
       "Capsaicin                           -2.122462\n",
       "Sunitinib                           -3.012827\n",
       "Ellipticine                         -5.727246\n",
       "Irinotecan Hydrochloride            -3.500509\n",
       "                                       ...   \n",
       "Voreloxin (SNS-595) hydrochloride   -2.701032\n",
       "Cefadroxil hydrate                  -2.464742\n",
       "Zofenopril calcium                  -5.131320\n",
       "Heparin sodium                      -4.754574\n",
       "Piperaquine phosphate               -5.703735\n",
       "Name: y_proba, Length: 5041, dtype: float64"
      ]
     },
     "execution_count": 342,
     "metadata": {},
     "output_type": "execute_result"
    }
   ],
   "source": [
    "discovery_y_log_proba"
   ]
  },
  {
   "cell_type": "code",
   "execution_count": 372,
   "metadata": {},
   "outputs": [
    {
     "data": {
      "application/vnd.plotly.v1+json": {
       "config": {
        "plotlyServerURL": "https://plot.ly"
       },
       "data": [
        {
         "alignmentgroup": "True",
         "hovertemplate": ">50% proba=True<br>index=%{x}<br>Probabilities=%{y}<extra></extra>",
         "legendgroup": "True",
         "marker": {
          "color": "orange",
          "pattern": {
           "shape": ""
          }
         },
         "name": "True",
         "offsetgroup": "True",
         "orientation": "v",
         "showlegend": true,
         "textposition": "auto",
         "type": "bar",
         "x": [
          "Betamethasone Valerate",
          "Guvacine hydrochloride",
          "Rofleponide",
          "Isoguvacine hydrochloride",
          "Diflucortolone valerate",
          "Decursinol angelate",
          "Fluticasone furoate",
          "Fluorometholone Acetate",
          "Dexamethasone Sodium Phosphate",
          "Dexamethasone Phosphate disodium",
          "Naloxone HCl Dihydrate",
          "YK-3-237",
          "Ouabain",
          "Difluprednate",
          "O4I2",
          "GW-870086",
          "Dexamethasone palmitate"
         ],
         "xaxis": "x",
         "y": [
          0.8377686764394024,
          0.7881346181466362,
          0.7742543000746658,
          0.7705296657103661,
          0.7206796705424512,
          0.6989918837514845,
          0.6753115132534862,
          0.6319779287061779,
          0.6294351647291376,
          0.6294351647291376,
          0.5653224621329992,
          0.5550688536670861,
          0.5471826574816314,
          0.539801586650563,
          0.5195958405680384,
          0.5170815020961795,
          0.5032765988226351
         ],
         "yaxis": "y"
        },
        {
         "alignmentgroup": "True",
         "hovertemplate": ">50% proba=False<br>index=%{x}<br>Probabilities=%{y}<extra></extra>",
         "legendgroup": "False",
         "marker": {
          "color": "#42b6f5",
          "pattern": {
           "shape": ""
          }
         },
         "name": "False",
         "offsetgroup": "False",
         "orientation": "v",
         "showlegend": true,
         "textposition": "auto",
         "type": "bar",
         "x": [
          "ON-013100",
          "Clobetasone butyrate",
          "Chrysotoxine",
          "6-Demethoxytangeretin",
          "PF-249",
          "Myrislignan",
          "Tetramethylkaempferol",
          "Pectolinarigenin",
          "Okanin",
          "Octahydrocurcumin",
          "DMU-212",
          "Beclometasone",
          "MicroRNA-21-IN-2",
          "SR 16832",
          "Hexahydrocurcumin",
          "WAY-272077",
          "TrxR1-IN-B19",
          "Kaempferol 3,7,4'-trimethyl ether",
          "A2793",
          "Salvigenin",
          "ML402",
          "L-165041",
          "Levoglucosenone",
          "N-trans-Sinapoyltyramine",
          "Hispidulin",
          "MPT0B014",
          "Verapamil",
          "IC261",
          "Dimethylcurcumin",
          "coniferyl ferulate",
          "7,3',4'-Tri-O-methylluteolin",
          "4',6,7-Trimethoxyisoflavone",
          "Phyllanthin",
          "SulfadiMethoxine sodium",
          "Ethyl 2-amino-4-methyl-5-[(3-nitrophenyl)carbamoyl]thiophene-3-carboxylate",
          "YUM70",
          "Dendrophenol",
          "JT010",
          "Ch55",
          "5,​7,​4'-​Trimethoxyflavone",
          "Prosapogenin A",
          "GSK5182",
          "SU5408",
          "DAPK-IN-2",
          "Gabazine",
          "YK11",
          "MKC8866",
          "KS176",
          "Orantinib",
          "SSR128129E",
          "Bentiromide ",
          "T-0509",
          "Cnidicin",
          "Caudatin",
          "NG-497",
          "icFSP1",
          "PF-04802367",
          "SYP-5",
          "MRT-14",
          "Sivifene",
          "Fexofenadine",
          "Tetramethylcurcumin",
          "3'-Hydroxypterostilbene",
          "Triparanol",
          "Butylhydroxyanisole",
          "BRD4 Inhibitor-20",
          "trifarotene",
          "Pumaprazole",
          "MKC9989",
          "TT-10",
          "Hydroxygenkwanin",
          "K02288",
          "FUREGRELATE",
          "Furegrelate sodium",
          "NPD8733",
          "Ani9",
          "ZM 336372",
          "CAY10746",
          "XD14",
          "Terameprocol",
          "2-(4-methoxyphenyl)-2-oxoethyl 2-hydroxy-5-methylbenzoate",
          "L82",
          "Methyl rosmarinate",
          "Hydrocortisone Valerate",
          "PF 04531083",
          "CBR-5884",
          "KPT-6566",
          "MMP-9-IN-1",
          "COR659",
          "JB061",
          "ID-8",
          "Retigabine",
          "Malabaricone B",
          "5J-4",
          "Chrysoeriol",
          "EN4",
          "Millepachine",
          "Gardenin B",
          "NLRP3/AIM2-IN-3",
          "ITF3756",
          "Tricin",
          "N-trans-Feruloyltyramine",
          "MSA-2",
          "6α-Methylprednisolone 21-hemisuccinate sodium salt",
          "RPI-1",
          "AS-252424",
          "Irisolidone",
          "LP-922056",
          "Hydrocortisone aceponate",
          "SUN11602",
          "cis-4-Hydroxy-L-proline",
          "Methylprednisolone succinate",
          "Bikinin",
          "Helichrysetin",
          "(E/Z)-TG003",
          "Remetinostat",
          "BRD3308",
          "Finerenone",
          "CI 75300",
          "BRD-6929",
          "ML365",
          "GSK-3β inhibitor 2",
          "8-Geranyloxypsoralen",
          "GAK inhibitor 49",
          "MST-312",
          "Retusin",
          "3'-​O-​Acetylhamaudol",
          "CFM-2",
          "Fenoterol",
          "Aureusidin",
          "Seneciphylline",
          "Orelabrutinib",
          "BMS-191095",
          "MCT1-IN-3",
          "Praeruptorin C",
          "OSS_128167",
          "HS-243",
          "DTHIB",
          "MID-1",
          "Sophoraflavanone G",
          "Voxelotor(GBT440, GTx011)",
          "3',​4',​5',​5,​7-​Pentamethoxyflavone",
          "JB062",
          "VER-49009",
          "HPOB",
          "BRD 9757",
          "Methyl L-histidinate dihydrochloride",
          "Etripamil",
          "Anticancer agent 73",
          "DY131",
          "TG4-155",
          "N-​Feruloyloctopamine",
          "IQ 1",
          "Methylnaltrexone bromide",
          "P18IN011",
          "YL-109",
          "RA-9",
          "HS220",
          "Eclitasertib",
          "SB 242084",
          "Inulicin",
          "NIK SMI1",
          "NLRP3-IN-10",
          "Cucurbitacin I",
          "Benzamide, N-(3-imidazo[2,1-b]thiazol-6-ylphenyl)-2-methoxy",
          "Mibampator",
          "SW-100",
          "SGC-GAK-1",
          "CaCCinh-A01",
          "Arnicolide D",
          "Eupatorin",
          "Isonipecotic acid",
          "IMS2186",
          "RKI-1447",
          "ESI-09",
          "AMG9810",
          "Fenoldopam mesylate",
          "MS37452",
          "Bigelovin",
          "Ginsenoside Rh4",
          "RKI1313",
          "Phorbol 12-myristate 13-acetate",
          "Veraguensin",
          "Morin Hydrate",
          "WDR5-0103",
          "Trans-Tranilast",
          "UC-514321",
          "HMN-154",
          "Cucurbitacin E",
          "Imperialine 3-β-D-glucoside",
          "Vamorolone",
          "L82-G17",
          "TM5441",
          "WDR5-0103 hydrochloride[890190-22-4(free base)]",
          "IRAK-4 protein kinase inhibitor 2",
          "Sinensetin ",
          "Microhelenin C",
          "Brevilin A",
          "DRB18",
          "Thapsigargin",
          "CID-5056270",
          "Windorphen",
          "TPCA-1",
          "TRPM8 antagonist 3",
          "AES-350",
          "CBL0137",
          "360A",
          "ORM-15341",
          "SCFSkp2-IN-2",
          "TRPC6-PAM-C20",
          "JNJ0966",
          "Metronidazole Benzoate",
          "(1E,6E)-Bis(demethoxy)curcumin",
          "Ayanin",
          "Norverapamil hydrochloride",
          "Droloxifene",
          "BRD4097",
          "PKUMDL-WQ-2101",
          "o-Toluic acid",
          "Glycycoumarin",
          "Lonazolac",
          "Trotabresib",
          "CP-380736",
          "Saroglitazar",
          "Su1498",
          "AKR1C3-IN-9",
          "MMP-2/MMP-9 Inhibitor I",
          "INDY",
          "mTOR inhibitor-1",
          "SYM2206",
          "LY450108",
          "MRT-10",
          "JAK3-IN-6",
          "NG 52",
          "Proteasome inhibitor IX",
          "Methoxy-PMS",
          "5-Geranoxy-7-methoxycoumarin",
          "Benoxaprofen",
          "GSK-3β inhibitor 11",
          "KJ Pyr 9",
          "ICA-105574",
          "BAY 2416964",
          "VB124",
          "1V209",
          "JTP 0819958 - HOIPIN-1",
          "CeMMEC13",
          "Dabuzalgron",
          "Cancer-Targeting Compound 1",
          "Licochalcone D",
          "STAT3-IN-B9",
          "GJ103 sodium salt",
          "GSK840",
          "LW6",
          "Y06036",
          "Efloxate",
          "PIK-90",
          "PI5P4Ks-IN-2",
          "QX-314 chloride",
          "Pregnenolone Carbonitrile",
          "Ractopamine HCl",
          "Purvalanol B",
          "S6K-18",
          "PCNA-I1",
          "Pantoprazole",
          "Pantoprazole ",
          "Amsilarotene",
          "Rosabulin",
          "Talviraline",
          "Icotinib Hydrochloride",
          "Haspin-IN-3",
          "AMPK activator 4",
          "DB07268",
          "MARK4 inhibitor 1",
          "AG957",
          "Fexofenadine HCl",
          "d-Epigalbacin",
          "SGC2085 HCl",
          "Potassium Channel Activator 1",
          "2-Iodomelatonin",
          "Wnt pathway activator 1",
          "ML115",
          "Takinib",
          "Diphyllin",
          "Nimbolide",
          "kb-NB77-78",
          "Actein",
          "Compound 3344 hydrochloride",
          "MOMIPP",
          "8-​Prenylnaringenin",
          "Bupranolol",
          "20(R)-Ginsenoside Rh2",
          "KCC-07",
          "JAMM protein inhibitor 2 ",
          "Carebastine",
          "CDC801",
          "Amtolmetin guacil",
          "2-Methoxyidazoxan monohydrochloride",
          "JNK Inhibitor VIII",
          "Proparacaine HCl",
          "HSP27 inhibitor J2",
          "GW9508",
          "MONNA",
          "CeMMEC1",
          "Benzyl butyl phthalate",
          "SLU-PP-1072",
          "Questiomycin A derivatives 1",
          "CDN1163",
          "ML329",
          "IMT1",
          "Coralyne chloride",
          "Acumapimod",
          "BQR-695",
          "Kartogenin",
          "Bevantolol hydrochloride",
          "Elevenostat",
          "MIM1",
          "Desmethyl Erlotinib hydrochloride",
          "Pratensein",
          "Chiauranib",
          "LM-1685",
          "Rabusertib",
          "Pyrazoloacridine",
          "BIX02188",
          "Prednisone acetate",
          "Corin",
          "Nylestriol",
          "HDAC-IN-40",
          "MPI_5a",
          "Levolansoprazole",
          "(Z)-FeCP-oxindole",
          "Bretazenil",
          "NSC 73150",
          "Chrysosplenol D",
          "AUT1",
          "GW 284543 hydrochloride",
          "SB-216",
          "Apricitabine",
          "BADGE",
          "Bavachalcone",
          "NT157",
          "CC-90001",
          "Tenovin-1",
          "BPTU",
          "Methylbenactyzine Bromide",
          "6-Benzoylheteratisine",
          "6'-GNTI dihydrochloride",
          "Desmethyl Erlotinib",
          "GW284543",
          "Dehydrocorydaline",
          "JW 55",
          "Fingolimod",
          "WAY-302159",
          "WRG-28",
          "NLG802",
          "Valbenazine",
          "WYC-209",
          "Cefradine",
          "RK-9123016",
          "Solabegron",
          "TCS 359",
          "D-Saccharic acid 1,4-lactone hydrate",
          "Dehydronitrosonisoldipine",
          "Tyrphostin AG 528",
          "Pentamidine",
          "Mirogabalin",
          "YU238259",
          "Tolamolol",
          "SM-7368",
          "SJ-172550",
          "WJ460",
          "UCB9608",
          "Imrecoxib",
          "Piperlonguminine",
          "Skullcapflavone II",
          "Sepimostat",
          "ML-098",
          "VER-50589",
          "Endoxifen",
          "Endoxifen (E-isomer)",
          "GA-017",
          "Esomeprazole",
          "SU16f",
          "ISX-9",
          "Tamsulosin",
          "Y16",
          "Necroptosis-IN-1",
          "LAT1-IN-1",
          "STAT3-IN-1",
          "Glucocorticoid receptor agonist-1",
          "4-Thiothymidine",
          "BML-210",
          "AKT Kinase Inhibitor",
          "Jatrorrhizine chloride",
          "SF1670",
          "Autophinib",
          "3′,4′,7-Trihydroxyflavone ",
          "WAY-270360",
          "AOH1996",
          "NKL 22",
          "Talampanel",
          "MSU-42011",
          "JC124",
          "RO-3",
          "CDK9-IN-10",
          "Nesolicaftor",
          "Opiranserin hydrochloride",
          "RY785",
          "PNU-74654",
          "2-(Cyclopropylethynyl)benzoic acid",
          "Deucravacitinib",
          "Lepidiline A",
          "Endoxifen hydrochloride",
          "Endoxifen HCl",
          "Dehydrocorydaline chloride",
          "LTβR-IN-1",
          "Loureirin C",
          "7ACC2",
          "Bisabolangelone",
          "Levcromakalim",
          "Vasicinone",
          "Parecoxib Sodium",
          "14-Deoxy-11,12-didehydroandrographolide",
          "GR 125743",
          "Necrostatin 2 racemate",
          "MKC3946",
          "BC1618",
          "BML-284 hydrochloride",
          "Pinoresinol",
          "TC11",
          "CID-2858522",
          "Dafadine-A",
          "ICILIN",
          "Lipoic acid",
          "α-Lipoic Acid",
          "(+)-α-Lipoic acid",
          "Cardiogenol C hydrochloride",
          "Darodipine",
          "Alloimperatorin",
          "BMT-124110 Formate",
          "STAT5-IN-1",
          "Tyrphostin AG1433",
          "LM22B-10",
          "ML-099",
          "MC180295",
          "S19-1035",
          "Piperonylic acid",
          "U93631",
          "NLRP3/AIM2-IN-2",
          "GDC-0326",
          "Pamicogrel",
          "1H-Benzimidazole-6-carboxamide, N-[3-(aminocarbonyl)-4,5,6,7-tetrahydrobenzo[b]thien-2-yl]-",
          "HDAC-IN-52",
          "Org-26576",
          "Colcemid",
          "Propyl pyrazole triol",
          "(Rac)-Acolbifene",
          "ROCK inhibitor-2",
          "Oglufanide",
          "AS 1892802",
          "Cetraxate hydrochloride",
          "MLN120B",
          "Quercetagetin",
          "γ-Tocotrienol",
          "TTA-A2",
          "Kinetin riboside",
          "Pimelic diphenylamide 106",
          "Yohimbine HCl",
          "NSAH",
          "DN401",
          "Mogroside I E1",
          "6RK73",
          "Gestonorone Capronate",
          "α-Tocotrienol",
          "Gimatecan",
          "Amonafide",
          "GSK3-IN-3",
          "Wnt/β-catenin agonist 2",
          "Alfuzosin",
          "Antroquinonol",
          "Anagliptin",
          "VO-Ohpic trihydrate",
          "Neldazosin",
          "MHY1485"
         ],
         "xaxis": "x",
         "y": [
          0.4983117555963497,
          0.48521517524010843,
          0.48254601455824286,
          0.4482439103081954,
          0.4200679820082785,
          0.41773625216125576,
          0.4105669998072486,
          0.40491356969512216,
          0.4033050269186683,
          0.40100507575337924,
          0.39928674878008985,
          0.3978121415817985,
          0.39316107458691113,
          0.3887837841042788,
          0.3857101717840064,
          0.38171324163995585,
          0.38143867727491276,
          0.3765556213010096,
          0.3756050708900097,
          0.373981953597672,
          0.3730769020373946,
          0.37165482392298665,
          0.37097282299533835,
          0.36942106597243984,
          0.36930973225739405,
          0.3687179673063706,
          0.36652230299500665,
          0.36647101829890083,
          0.3618491561354704,
          0.36158081376223333,
          0.36057056660672,
          0.3520829572298479,
          0.35109014988168297,
          0.34301771366888745,
          0.34280284332741323,
          0.34176914030307,
          0.341548236146736,
          0.3359227462254919,
          0.33505232299870535,
          0.3341432519998566,
          0.3322197252711058,
          0.3290658555938708,
          0.32762018375383617,
          0.32739227973800267,
          0.32624485257785346,
          0.3215333220867104,
          0.3213260992220073,
          0.31753023573336425,
          0.31747408998398,
          0.31604472920297344,
          0.31363698459116,
          0.31278723918834134,
          0.31219143510432734,
          0.3121810024714564,
          0.31193745373025117,
          0.309409019140375,
          0.3083376384101534,
          0.3070340157944891,
          0.3069953419320837,
          0.3046021808738571,
          0.3045048253007981,
          0.30288731501350563,
          0.3028288917646186,
          0.30218120454266933,
          0.3019847092317822,
          0.3009629188950033,
          0.2983737706493865,
          0.2979780235900414,
          0.29714276774886417,
          0.2967128165942517,
          0.2957387184084796,
          0.29500541143216846,
          0.29483446692510673,
          0.29350065576670814,
          0.29345854363327584,
          0.2928391063255931,
          0.2915236956809658,
          0.2914666230972797,
          0.2860052404477032,
          0.284959822173443,
          0.28464034948904926,
          0.284334305889325,
          0.2837253217417197,
          0.28304509505540415,
          0.2824779749677165,
          0.28141341872601944,
          0.28125729737889366,
          0.2806860487412566,
          0.28027527003019687,
          0.27826884797327534,
          0.2768600812032261,
          0.2761835294327822,
          0.27584566611717826,
          0.2757640280097845,
          0.275699132197801,
          0.2753311502152104,
          0.27430720267726627,
          0.2726680640148546,
          0.27133969494797655,
          0.2709293340079015,
          0.2705790614973498,
          0.2684094076521236,
          0.26683284479239683,
          0.26654447731804565,
          0.26613186410001466,
          0.26595156078606585,
          0.2659485715716869,
          0.2650479423324036,
          0.26387887785136716,
          0.2633971612061347,
          0.26269073791517916,
          0.2625392837245725,
          0.26244713074191983,
          0.2619108741176383,
          0.26177543593698993,
          0.2617348557179875,
          0.2595263411850552,
          0.259474962427215,
          0.25838878771470797,
          0.25813473020198,
          0.2574396347539001,
          0.2567883101038166,
          0.2559383325624247,
          0.2556191931960614,
          0.2549942568339014,
          0.2544490542846996,
          0.25305616282103677,
          0.25288382430766737,
          0.25107774750640843,
          0.2509989086795334,
          0.2508775007655931,
          0.2501670016181191,
          0.24847014001554335,
          0.24793016893742312,
          0.24736477517912542,
          0.24614322756062604,
          0.24543135334086708,
          0.24524579496673113,
          0.24504253616221916,
          0.24474260685133087,
          0.24442629118202797,
          0.2440312446430749,
          0.243392588910111,
          0.2432045284487433,
          0.24256058835254007,
          0.24209589310060503,
          0.24204287203392086,
          0.24072644952026712,
          0.23993415633381407,
          0.23955454587023592,
          0.23856636251248042,
          0.23841512967017658,
          0.2384122007650632,
          0.23695209278906926,
          0.23631152646213444,
          0.23631116637767574,
          0.2360516475375105,
          0.23581447382973325,
          0.23548311083695536,
          0.23536382344645107,
          0.23508620052049695,
          0.23410962099733382,
          0.23398807327461255,
          0.23365884116498192,
          0.23311393063152908,
          0.2331069574944918,
          0.23297513591749233,
          0.2328601639370003,
          0.23266535998794272,
          0.23242558439019248,
          0.23216213262960336,
          0.23190089871386568,
          0.23172489936309923,
          0.23151921887832527,
          0.2313394991811566,
          0.23126404226549951,
          0.2312254775800086,
          0.22948014394209354,
          0.2278408497894134,
          0.2271964553793252,
          0.22703103661433277,
          0.22681244255494729,
          0.2262670028621592,
          0.22545000468503668,
          0.22538711255622504,
          0.22459575061312861,
          0.22417019649491202,
          0.22383359251302737,
          0.22379132614515862,
          0.22313789557123626,
          0.22286818847826265,
          0.22258069254373763,
          0.22172053886388207,
          0.2210062002391017,
          0.22078971268707293,
          0.22052562018112198,
          0.22051049234599884,
          0.22051049234599884,
          0.22021298875728257,
          0.21998243115858462,
          0.2197605005337059,
          0.21965626891031334,
          0.21930396571586364,
          0.21906832740469018,
          0.21825312439396408,
          0.21819638792477764,
          0.21751202255158542,
          0.21750469938516848,
          0.21745848260981737,
          0.21681948670029028,
          0.21643198870763553,
          0.21613222396477075,
          0.2158011093116908,
          0.21548736460437198,
          0.2154442472335626,
          0.21503643424259053,
          0.21489804519515068,
          0.21442644246268705,
          0.21400541458349165,
          0.21397556205865276,
          0.21366614820690027,
          0.2136080568620603,
          0.21305679524601942,
          0.21290079651475569,
          0.21290044101726102,
          0.21204292460160074,
          0.21125960725704976,
          0.211092477734362,
          0.21102917565373672,
          0.21086523883419186,
          0.2103153709657013,
          0.2102584319480818,
          0.21022026837302918,
          0.20980351739831654,
          0.20937290929992777,
          0.2092808365647605,
          0.2089243354517142,
          0.20865334791019902,
          0.2084545419668616,
          0.20838590056527007,
          0.20836459303437593,
          0.20739169301775884,
          0.20732600551271804,
          0.2072749374836486,
          0.20707276166591312,
          0.20646781849358498,
          0.20608632173228733,
          0.2057866806818946,
          0.20563829224991914,
          0.20550602998687298,
          0.20543503236328786,
          0.20495589578368453,
          0.20472184790917633,
          0.20421743720624494,
          0.20421178127010153,
          0.2039543524465106,
          0.20353692844707466,
          0.2034043456487536,
          0.20287735284792988,
          0.20280534347990423,
          0.20267836707721495,
          0.20263371787371154,
          0.20255466637810127,
          0.2024806756056346,
          0.2024806756056346,
          0.2024370485361509,
          0.20142047975805288,
          0.20120824764993125,
          0.1998637703051186,
          0.199768006475469,
          0.19930998898857674,
          0.1985994202960231,
          0.19841578673254678,
          0.19816580944303708,
          0.19814673248723583,
          0.19804280167825905,
          0.1972617297863962,
          0.19618636622030705,
          0.19611098883877595,
          0.19610708111244968,
          0.19609634025686132,
          0.19553407005638623,
          0.19545124498700525,
          0.19492482381912288,
          0.1948795588981228,
          0.1948366853914093,
          0.19480661390820606,
          0.19453663986861258,
          0.19406014459842438,
          0.19400245452619155,
          0.1939441990906083,
          0.19388264006356098,
          0.19386151062935403,
          0.19376940394325923,
          0.19370620997841773,
          0.19350974009898378,
          0.19338200066135464,
          0.19289536895369863,
          0.19279531099455047,
          0.19245583197396218,
          0.19179136641574665,
          0.1915056217775482,
          0.19144110164460534,
          0.1913805984906692,
          0.19130210842285011,
          0.1906029764911129,
          0.19048140804405453,
          0.19020991776612955,
          0.18977327490687182,
          0.18960686031028937,
          0.18943300003447103,
          0.18907664745357966,
          0.18881947734271376,
          0.18871013284920773,
          0.18843397146551794,
          0.1884047522490252,
          0.18824862271902842,
          0.18824376169224202,
          0.18779592235851847,
          0.1877906755645366,
          0.1877525861581935,
          0.18761910411088398,
          0.18744506886380355,
          0.18739808819928458,
          0.18705218683257763,
          0.18603890106821258,
          0.18594603771845156,
          0.1858340398127784,
          0.18549262096811617,
          0.18547030075192106,
          0.18546020902762514,
          0.1854092289103809,
          0.18466663813702838,
          0.184499205435187,
          0.1844781690361531,
          0.18415015829823722,
          0.1836155894754535,
          0.18361485427287824,
          0.18356578668596638,
          0.18302593784839039,
          0.1826066529251482,
          0.1825887827281581,
          0.1821891187445979,
          0.1820068784163083,
          0.18172588353329738,
          0.18168971878637674,
          0.18129644725710067,
          0.18106176936203988,
          0.18031092946478058,
          0.17959328749413594,
          0.17934253741651165,
          0.17908771704905466,
          0.17875888949962918,
          0.17830146023333113,
          0.1782427577208856,
          0.1781957195889256,
          0.17801530768082127,
          0.17793237003759732,
          0.17779573190494957,
          0.17761347272663927,
          0.17749593321329754,
          0.1765733025607138,
          0.17636065228193756,
          0.17627329241170497,
          0.17619432260497428,
          0.17612920122143458,
          0.1760657664904581,
          0.17600778307600595,
          0.17586472530159133,
          0.17568731819183142,
          0.1753737793716464,
          0.17506585897373408,
          0.17502159592149538,
          0.17489598110460372,
          0.17466964922786998,
          0.17450668164368127,
          0.17448768319222127,
          0.1744294679054184,
          0.1741138091996814,
          0.1741044068075341,
          0.1736027766750446,
          0.17347553321653314,
          0.17341036272972443,
          0.17331807009649958,
          0.17311946633902375,
          0.1727226789934061,
          0.1726622113163036,
          0.17247022367843456,
          0.1723622029584606,
          0.17199486616231094,
          0.17178816392614954,
          0.1717245690127467,
          0.17162049492298792,
          0.17140150565940562,
          0.17125806133062177,
          0.17117569129040988,
          0.1710318729926494,
          0.17095074170469723,
          0.1707290339059725,
          0.17062133394702392,
          0.17050560616612453,
          0.17042547107022343,
          0.1699107131453107,
          0.1698678699853824,
          0.16923216889094944,
          0.16913283149008718,
          0.1685815447431186,
          0.1684996077064397,
          0.16833397798844413,
          0.16825050363524077,
          0.16801671442512126,
          0.16782878744134866,
          0.16782878744134866,
          0.1677711795811553,
          0.16775645727045074,
          0.16765677941360524,
          0.16742028245709883,
          0.16737278509270964,
          0.16718114137893086,
          0.16695703612032356,
          0.16554690747125275,
          0.1653426055936117,
          0.1653128988598484,
          0.16509017355184352,
          0.1647932578409394,
          0.16470496884632235,
          0.1645497497154904,
          0.16442141368829308,
          0.1642564843466576,
          0.16421600968730277,
          0.1640416518828985,
          0.16395759867725737,
          0.1639244367946363,
          0.1639244367946363,
          0.1639244367946363,
          0.16389364156374336,
          0.16386399670191254,
          0.16316911454273475,
          0.16309058674094748,
          0.1629461990777251,
          0.16293414514958,
          0.1628825608074414,
          0.162824021728872,
          0.16282162050675325,
          0.16275359073781975,
          0.16262546482876736,
          0.16255711653996358,
          0.1623334416191039,
          0.16178152157546077,
          0.16175510302519663,
          0.16118543182992814,
          0.16092257228284282,
          0.1608811246029277,
          0.1607560474396068,
          0.1606172702523433,
          0.1603920828302555,
          0.1602470205621745,
          0.1599926886141534,
          0.15972274218692878,
          0.15965008499923958,
          0.15946831892253624,
          0.15926391486780997,
          0.15925228342290684,
          0.15878552716240468,
          0.15869951159600001,
          0.15869724970389582,
          0.1585156754499277,
          0.1581994557073088,
          0.15805900188762334,
          0.1580101948353691,
          0.1575371368697422,
          0.15741588012388832,
          0.15727307691431294,
          0.15725154591359544,
          0.15704543691547201,
          0.1569231074628436,
          0.15670632500613768,
          0.15629254627467706,
          0.156247221262414,
          0.15587659581955204,
          0.15561087101464136,
          0.15488680160143842,
          0.1547023466510094
         ],
         "yaxis": "y"
        }
       ],
       "layout": {
        "barmode": "relative",
        "legend": {
         "title": {
          "text": ">50% proba"
         },
         "tracegroupgap": 0
        },
        "template": {
         "data": {
          "bar": [
           {
            "error_x": {
             "color": "#2a3f5f"
            },
            "error_y": {
             "color": "#2a3f5f"
            },
            "marker": {
             "line": {
              "color": "#E5ECF6",
              "width": 0.5
             },
             "pattern": {
              "fillmode": "overlay",
              "size": 10,
              "solidity": 0.2
             }
            },
            "type": "bar"
           }
          ],
          "barpolar": [
           {
            "marker": {
             "line": {
              "color": "#E5ECF6",
              "width": 0.5
             },
             "pattern": {
              "fillmode": "overlay",
              "size": 10,
              "solidity": 0.2
             }
            },
            "type": "barpolar"
           }
          ],
          "carpet": [
           {
            "aaxis": {
             "endlinecolor": "#2a3f5f",
             "gridcolor": "white",
             "linecolor": "white",
             "minorgridcolor": "white",
             "startlinecolor": "#2a3f5f"
            },
            "baxis": {
             "endlinecolor": "#2a3f5f",
             "gridcolor": "white",
             "linecolor": "white",
             "minorgridcolor": "white",
             "startlinecolor": "#2a3f5f"
            },
            "type": "carpet"
           }
          ],
          "choropleth": [
           {
            "colorbar": {
             "outlinewidth": 0,
             "ticks": ""
            },
            "type": "choropleth"
           }
          ],
          "contour": [
           {
            "colorbar": {
             "outlinewidth": 0,
             "ticks": ""
            },
            "colorscale": [
             [
              0,
              "#0d0887"
             ],
             [
              0.1111111111111111,
              "#46039f"
             ],
             [
              0.2222222222222222,
              "#7201a8"
             ],
             [
              0.3333333333333333,
              "#9c179e"
             ],
             [
              0.4444444444444444,
              "#bd3786"
             ],
             [
              0.5555555555555556,
              "#d8576b"
             ],
             [
              0.6666666666666666,
              "#ed7953"
             ],
             [
              0.7777777777777778,
              "#fb9f3a"
             ],
             [
              0.8888888888888888,
              "#fdca26"
             ],
             [
              1,
              "#f0f921"
             ]
            ],
            "type": "contour"
           }
          ],
          "contourcarpet": [
           {
            "colorbar": {
             "outlinewidth": 0,
             "ticks": ""
            },
            "type": "contourcarpet"
           }
          ],
          "heatmap": [
           {
            "colorbar": {
             "outlinewidth": 0,
             "ticks": ""
            },
            "colorscale": [
             [
              0,
              "#0d0887"
             ],
             [
              0.1111111111111111,
              "#46039f"
             ],
             [
              0.2222222222222222,
              "#7201a8"
             ],
             [
              0.3333333333333333,
              "#9c179e"
             ],
             [
              0.4444444444444444,
              "#bd3786"
             ],
             [
              0.5555555555555556,
              "#d8576b"
             ],
             [
              0.6666666666666666,
              "#ed7953"
             ],
             [
              0.7777777777777778,
              "#fb9f3a"
             ],
             [
              0.8888888888888888,
              "#fdca26"
             ],
             [
              1,
              "#f0f921"
             ]
            ],
            "type": "heatmap"
           }
          ],
          "heatmapgl": [
           {
            "colorbar": {
             "outlinewidth": 0,
             "ticks": ""
            },
            "colorscale": [
             [
              0,
              "#0d0887"
             ],
             [
              0.1111111111111111,
              "#46039f"
             ],
             [
              0.2222222222222222,
              "#7201a8"
             ],
             [
              0.3333333333333333,
              "#9c179e"
             ],
             [
              0.4444444444444444,
              "#bd3786"
             ],
             [
              0.5555555555555556,
              "#d8576b"
             ],
             [
              0.6666666666666666,
              "#ed7953"
             ],
             [
              0.7777777777777778,
              "#fb9f3a"
             ],
             [
              0.8888888888888888,
              "#fdca26"
             ],
             [
              1,
              "#f0f921"
             ]
            ],
            "type": "heatmapgl"
           }
          ],
          "histogram": [
           {
            "marker": {
             "pattern": {
              "fillmode": "overlay",
              "size": 10,
              "solidity": 0.2
             }
            },
            "type": "histogram"
           }
          ],
          "histogram2d": [
           {
            "colorbar": {
             "outlinewidth": 0,
             "ticks": ""
            },
            "colorscale": [
             [
              0,
              "#0d0887"
             ],
             [
              0.1111111111111111,
              "#46039f"
             ],
             [
              0.2222222222222222,
              "#7201a8"
             ],
             [
              0.3333333333333333,
              "#9c179e"
             ],
             [
              0.4444444444444444,
              "#bd3786"
             ],
             [
              0.5555555555555556,
              "#d8576b"
             ],
             [
              0.6666666666666666,
              "#ed7953"
             ],
             [
              0.7777777777777778,
              "#fb9f3a"
             ],
             [
              0.8888888888888888,
              "#fdca26"
             ],
             [
              1,
              "#f0f921"
             ]
            ],
            "type": "histogram2d"
           }
          ],
          "histogram2dcontour": [
           {
            "colorbar": {
             "outlinewidth": 0,
             "ticks": ""
            },
            "colorscale": [
             [
              0,
              "#0d0887"
             ],
             [
              0.1111111111111111,
              "#46039f"
             ],
             [
              0.2222222222222222,
              "#7201a8"
             ],
             [
              0.3333333333333333,
              "#9c179e"
             ],
             [
              0.4444444444444444,
              "#bd3786"
             ],
             [
              0.5555555555555556,
              "#d8576b"
             ],
             [
              0.6666666666666666,
              "#ed7953"
             ],
             [
              0.7777777777777778,
              "#fb9f3a"
             ],
             [
              0.8888888888888888,
              "#fdca26"
             ],
             [
              1,
              "#f0f921"
             ]
            ],
            "type": "histogram2dcontour"
           }
          ],
          "mesh3d": [
           {
            "colorbar": {
             "outlinewidth": 0,
             "ticks": ""
            },
            "type": "mesh3d"
           }
          ],
          "parcoords": [
           {
            "line": {
             "colorbar": {
              "outlinewidth": 0,
              "ticks": ""
             }
            },
            "type": "parcoords"
           }
          ],
          "pie": [
           {
            "automargin": true,
            "type": "pie"
           }
          ],
          "scatter": [
           {
            "fillpattern": {
             "fillmode": "overlay",
             "size": 10,
             "solidity": 0.2
            },
            "type": "scatter"
           }
          ],
          "scatter3d": [
           {
            "line": {
             "colorbar": {
              "outlinewidth": 0,
              "ticks": ""
             }
            },
            "marker": {
             "colorbar": {
              "outlinewidth": 0,
              "ticks": ""
             }
            },
            "type": "scatter3d"
           }
          ],
          "scattercarpet": [
           {
            "marker": {
             "colorbar": {
              "outlinewidth": 0,
              "ticks": ""
             }
            },
            "type": "scattercarpet"
           }
          ],
          "scattergeo": [
           {
            "marker": {
             "colorbar": {
              "outlinewidth": 0,
              "ticks": ""
             }
            },
            "type": "scattergeo"
           }
          ],
          "scattergl": [
           {
            "marker": {
             "colorbar": {
              "outlinewidth": 0,
              "ticks": ""
             }
            },
            "type": "scattergl"
           }
          ],
          "scattermapbox": [
           {
            "marker": {
             "colorbar": {
              "outlinewidth": 0,
              "ticks": ""
             }
            },
            "type": "scattermapbox"
           }
          ],
          "scatterpolar": [
           {
            "marker": {
             "colorbar": {
              "outlinewidth": 0,
              "ticks": ""
             }
            },
            "type": "scatterpolar"
           }
          ],
          "scatterpolargl": [
           {
            "marker": {
             "colorbar": {
              "outlinewidth": 0,
              "ticks": ""
             }
            },
            "type": "scatterpolargl"
           }
          ],
          "scatterternary": [
           {
            "marker": {
             "colorbar": {
              "outlinewidth": 0,
              "ticks": ""
             }
            },
            "type": "scatterternary"
           }
          ],
          "surface": [
           {
            "colorbar": {
             "outlinewidth": 0,
             "ticks": ""
            },
            "colorscale": [
             [
              0,
              "#0d0887"
             ],
             [
              0.1111111111111111,
              "#46039f"
             ],
             [
              0.2222222222222222,
              "#7201a8"
             ],
             [
              0.3333333333333333,
              "#9c179e"
             ],
             [
              0.4444444444444444,
              "#bd3786"
             ],
             [
              0.5555555555555556,
              "#d8576b"
             ],
             [
              0.6666666666666666,
              "#ed7953"
             ],
             [
              0.7777777777777778,
              "#fb9f3a"
             ],
             [
              0.8888888888888888,
              "#fdca26"
             ],
             [
              1,
              "#f0f921"
             ]
            ],
            "type": "surface"
           }
          ],
          "table": [
           {
            "cells": {
             "fill": {
              "color": "#EBF0F8"
             },
             "line": {
              "color": "white"
             }
            },
            "header": {
             "fill": {
              "color": "#C8D4E3"
             },
             "line": {
              "color": "white"
             }
            },
            "type": "table"
           }
          ]
         },
         "layout": {
          "annotationdefaults": {
           "arrowcolor": "#2a3f5f",
           "arrowhead": 0,
           "arrowwidth": 1
          },
          "autotypenumbers": "strict",
          "coloraxis": {
           "colorbar": {
            "outlinewidth": 0,
            "ticks": ""
           }
          },
          "colorscale": {
           "diverging": [
            [
             0,
             "#8e0152"
            ],
            [
             0.1,
             "#c51b7d"
            ],
            [
             0.2,
             "#de77ae"
            ],
            [
             0.3,
             "#f1b6da"
            ],
            [
             0.4,
             "#fde0ef"
            ],
            [
             0.5,
             "#f7f7f7"
            ],
            [
             0.6,
             "#e6f5d0"
            ],
            [
             0.7,
             "#b8e186"
            ],
            [
             0.8,
             "#7fbc41"
            ],
            [
             0.9,
             "#4d9221"
            ],
            [
             1,
             "#276419"
            ]
           ],
           "sequential": [
            [
             0,
             "#0d0887"
            ],
            [
             0.1111111111111111,
             "#46039f"
            ],
            [
             0.2222222222222222,
             "#7201a8"
            ],
            [
             0.3333333333333333,
             "#9c179e"
            ],
            [
             0.4444444444444444,
             "#bd3786"
            ],
            [
             0.5555555555555556,
             "#d8576b"
            ],
            [
             0.6666666666666666,
             "#ed7953"
            ],
            [
             0.7777777777777778,
             "#fb9f3a"
            ],
            [
             0.8888888888888888,
             "#fdca26"
            ],
            [
             1,
             "#f0f921"
            ]
           ],
           "sequentialminus": [
            [
             0,
             "#0d0887"
            ],
            [
             0.1111111111111111,
             "#46039f"
            ],
            [
             0.2222222222222222,
             "#7201a8"
            ],
            [
             0.3333333333333333,
             "#9c179e"
            ],
            [
             0.4444444444444444,
             "#bd3786"
            ],
            [
             0.5555555555555556,
             "#d8576b"
            ],
            [
             0.6666666666666666,
             "#ed7953"
            ],
            [
             0.7777777777777778,
             "#fb9f3a"
            ],
            [
             0.8888888888888888,
             "#fdca26"
            ],
            [
             1,
             "#f0f921"
            ]
           ]
          },
          "colorway": [
           "#636efa",
           "#EF553B",
           "#00cc96",
           "#ab63fa",
           "#FFA15A",
           "#19d3f3",
           "#FF6692",
           "#B6E880",
           "#FF97FF",
           "#FECB52"
          ],
          "font": {
           "color": "#2a3f5f"
          },
          "geo": {
           "bgcolor": "white",
           "lakecolor": "white",
           "landcolor": "#E5ECF6",
           "showlakes": true,
           "showland": true,
           "subunitcolor": "white"
          },
          "hoverlabel": {
           "align": "left"
          },
          "hovermode": "closest",
          "mapbox": {
           "style": "light"
          },
          "paper_bgcolor": "white",
          "plot_bgcolor": "#E5ECF6",
          "polar": {
           "angularaxis": {
            "gridcolor": "white",
            "linecolor": "white",
            "ticks": ""
           },
           "bgcolor": "#E5ECF6",
           "radialaxis": {
            "gridcolor": "white",
            "linecolor": "white",
            "ticks": ""
           }
          },
          "scene": {
           "xaxis": {
            "backgroundcolor": "#E5ECF6",
            "gridcolor": "white",
            "gridwidth": 2,
            "linecolor": "white",
            "showbackground": true,
            "ticks": "",
            "zerolinecolor": "white"
           },
           "yaxis": {
            "backgroundcolor": "#E5ECF6",
            "gridcolor": "white",
            "gridwidth": 2,
            "linecolor": "white",
            "showbackground": true,
            "ticks": "",
            "zerolinecolor": "white"
           },
           "zaxis": {
            "backgroundcolor": "#E5ECF6",
            "gridcolor": "white",
            "gridwidth": 2,
            "linecolor": "white",
            "showbackground": true,
            "ticks": "",
            "zerolinecolor": "white"
           }
          },
          "shapedefaults": {
           "line": {
            "color": "#2a3f5f"
           }
          },
          "ternary": {
           "aaxis": {
            "gridcolor": "white",
            "linecolor": "white",
            "ticks": ""
           },
           "baxis": {
            "gridcolor": "white",
            "linecolor": "white",
            "ticks": ""
           },
           "bgcolor": "#E5ECF6",
           "caxis": {
            "gridcolor": "white",
            "linecolor": "white",
            "ticks": ""
           }
          },
          "title": {
           "x": 0.05
          },
          "xaxis": {
           "automargin": true,
           "gridcolor": "white",
           "linecolor": "white",
           "ticks": "",
           "title": {
            "standoff": 15
           },
           "zerolinecolor": "white",
           "zerolinewidth": 2
          },
          "yaxis": {
           "automargin": true,
           "gridcolor": "white",
           "linecolor": "white",
           "ticks": "",
           "title": {
            "standoff": 15
           },
           "zerolinecolor": "white",
           "zerolinewidth": 2
          }
         }
        },
        "title": {
         "text": "Top 500 Predicted Probabilities"
        },
        "xaxis": {
         "anchor": "y",
         "domain": [
          0,
          1
         ],
         "title": {
          "text": "index"
         }
        },
        "yaxis": {
         "anchor": "x",
         "domain": [
          0,
          1
         ],
         "title": {
          "text": "Probabilities"
         }
        }
       }
      }
     },
     "metadata": {},
     "output_type": "display_data"
    }
   ],
   "source": [
    "import plotly.express as px\n",
    "\n",
    "fig = px.bar(predictions.nlargest(500,columns='y_proba'),y='y_proba',color='y_pred', color_discrete_sequence=['orange','#42b6f5'],title=\"Top 500 Predicted Probabilities\",labels={'y_proba':'Probabilities','y_pred':'>50% proba'})\n",
    "fig.show()"
   ]
  },
  {
   "cell_type": "code",
   "execution_count": null,
   "metadata": {},
   "outputs": [],
   "source": [
    "# Download the figure as an html file\n",
    "# fig.write_html('Results/Top_500_Predicted_Probabilities.html')"
   ]
  },
  {
   "cell_type": "code",
   "execution_count": null,
   "metadata": {},
   "outputs": [],
   "source": [
    "# Saving the sorted predictions\n",
    "# discovery_y_proba.sort_values(ascending=False).to_excel('Predicted probabilities.xlsx')"
   ]
  }
 ],
 "metadata": {
  "kernelspec": {
   "display_name": "base",
   "language": "python",
   "name": "python3"
  },
  "language_info": {
   "codemirror_mode": {
    "name": "ipython",
    "version": 3
   },
   "file_extension": ".py",
   "mimetype": "text/x-python",
   "name": "python",
   "nbconvert_exporter": "python",
   "pygments_lexer": "ipython3",
   "version": "3.11.8"
  }
 },
 "nbformat": 4,
 "nbformat_minor": 2
}
